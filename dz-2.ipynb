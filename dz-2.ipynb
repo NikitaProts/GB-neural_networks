{
 "cells": [
  {
   "cell_type": "code",
   "execution_count": 29,
   "metadata": {},
   "outputs": [],
   "source": [
    "from tensorflow.keras.layers import Input, Flatten, Dense\n",
    "from keras.models import Sequential\n",
    "import matplotlib.pyplot as plt\n",
    "from tensorflow.keras.losses import CategoricalCrossentropy, SparseCategoricalCrossentropy\n",
    "from tensorflow.keras.models import Model\n",
    "from tensorflow.keras.optimizers import Adam, SGD\n",
    "\n",
    "from keras.datasets import fashion_mnist\n",
    "import numpy as np\n",
    "from keras.utils.np_utils import to_categorical"
   ]
  },
  {
   "cell_type": "markdown",
   "metadata": {},
   "source": [
    "### Классификация одежды и просмотр различных метрик"
   ]
  },
  {
   "cell_type": "code",
   "execution_count": 3,
   "metadata": {},
   "outputs": [],
   "source": [
    "(X_train, y_train_labels), (X_test, y_test_labels) = fashion_mnist.load_data()"
   ]
  },
  {
   "cell_type": "code",
   "execution_count": 5,
   "metadata": {},
   "outputs": [],
   "source": [
    "class_names = ['T-shirt/top',\n",
    "               'Trouser',\n",
    "               'Pullover',\n",
    "               'Dress',\n",
    "               'Coat',\n",
    "               'Sandal',\n",
    "               'Shirt',\n",
    "               'Sneaker',\n",
    "               'Bag',\n",
    "               'Ankle boot']"
   ]
  },
  {
   "cell_type": "code",
   "execution_count": 7,
   "metadata": {},
   "outputs": [],
   "source": [
    "y_train = to_categorical(y_train_labels)\n",
    "y_test = to_categorical(y_test_labels)"
   ]
  },
  {
   "cell_type": "code",
   "execution_count": 10,
   "metadata": {},
   "outputs": [
    {
     "data": {
      "image/png": "[encoded data removed]",
      "text/plain": [
       "<Figure size 432x288 with 2 Axes>"
      ]
     },
     "metadata": {
      "needs_background": "light"
     },
     "output_type": "display_data"
    }
   ],
   "source": [
    "plt.figure()\n",
    "plt.imshow(X_train[3])\n",
    "plt.colorbar()\n",
    "plt.show()"
   ]
  },
  {
   "cell_type": "code",
   "execution_count": 11,
   "metadata": {},
   "outputs": [],
   "source": [
    "# нормализация \n",
    "X_train = X_train / 255.0\n",
    "X_test = X_test / 255.0"
   ]
  },
  {
   "cell_type": "code",
   "execution_count": 38,
   "metadata": {},
   "outputs": [],
   "source": [
    "def changing_neurons_or_optimizer(neurons, optimizer):\n",
    "    \"\"\"\n",
    "    Функция для просмотра метрик,\n",
    "    при изменении кол-ва нейронов\n",
    "    и вида оптимизатора на 2х слойной модели\n",
    "    \"\"\"\n",
    "    \n",
    "    global X_train, y_train, X_test, y_test\n",
    "    \n",
    "    model = Sequential([\n",
    "        Flatten(input_shape=(28, 28)),\n",
    "        Dense(neurons, activation='relu'),\n",
    "        Dense(10)\n",
    "    ])\n",
    "    \n",
    "    model.compile(optimizer=f\"{optimizer}\",\n",
    "              loss=CategoricalCrossentropy(from_logits=True),\n",
    "              metrics=['accuracy'])\n",
    "    \n",
    "    model.fit(X_train, y_train,\n",
    "          epochs=5,\n",
    "          batch_size=256,\n",
    "          validation_data=(X_test, y_test))\n",
    "    \n",
    "    test_loss, test_acc = model.evaluate(X_test, y_test, verbose=2)\n",
    "\n",
    "    print('\\nTest accuracy:', test_acc)"
   ]
  },
  {
   "cell_type": "markdown",
   "metadata": {},
   "source": [
    "### Изменение нейронов"
   ]
  },
  {
   "cell_type": "code",
   "execution_count": 39,
   "metadata": {},
   "outputs": [
    {
     "name": "stdout",
     "output_type": "stream",
     "text": [
      "Epoch 1/5\n",
      "235/235 [==============================] - 2s 4ms/step - loss: 0.6118 - accuracy: 0.7951 - val_loss: 0.4802 - val_accuracy: 0.8327\n",
      "Epoch 2/5\n",
      "235/235 [==============================] - 1s 4ms/step - loss: 0.4287 - accuracy: 0.8521 - val_loss: 0.4333 - val_accuracy: 0.8466\n",
      "Epoch 3/5\n",
      "235/235 [==============================] - 1s 4ms/step - loss: 0.3861 - accuracy: 0.8664 - val_loss: 0.4107 - val_accuracy: 0.8531\n",
      "Epoch 4/5\n",
      "235/235 [==============================] - 1s 4ms/step - loss: 0.3612 - accuracy: 0.8720 - val_loss: 0.3912 - val_accuracy: 0.8624\n",
      "Epoch 5/5\n",
      "235/235 [==============================] - 1s 4ms/step - loss: 0.3395 - accuracy: 0.8796 - val_loss: 0.3733 - val_accuracy: 0.8686\n",
      "313/313 - 1s - loss: 0.3733 - accuracy: 0.8686 - 521ms/epoch - 2ms/step\n",
      "\n",
      "Test accuracy: 0.8686000108718872\n"
     ]
    }
   ],
   "source": [
    "changing_neurons_or_optimizer(128, \"ADAM\")"
   ]
  },
  {
   "cell_type": "code",
   "execution_count": 40,
   "metadata": {},
   "outputs": [
    {
     "name": "stdout",
     "output_type": "stream",
     "text": [
      "Epoch 1/5\n",
      "235/235 [==============================] - 1s 4ms/step - loss: 0.6586 - accuracy: 0.7792 - val_loss: 0.5266 - val_accuracy: 0.8169\n",
      "Epoch 2/5\n",
      "235/235 [==============================] - 1s 3ms/step - loss: 0.4477 - accuracy: 0.8459 - val_loss: 0.4602 - val_accuracy: 0.8375\n",
      "Epoch 3/5\n",
      "235/235 [==============================] - 1s 3ms/step - loss: 0.4097 - accuracy: 0.8584 - val_loss: 0.4411 - val_accuracy: 0.8450\n",
      "Epoch 4/5\n",
      "235/235 [==============================] - 1s 3ms/step - loss: 0.3861 - accuracy: 0.8645 - val_loss: 0.4184 - val_accuracy: 0.8536\n",
      "Epoch 5/5\n",
      "235/235 [==============================] - 1s 3ms/step - loss: 0.3697 - accuracy: 0.8707 - val_loss: 0.4221 - val_accuracy: 0.8562\n",
      "313/313 - 0s - loss: 0.4221 - accuracy: 0.8562 - 396ms/epoch - 1ms/step\n",
      "\n",
      "Test accuracy: 0.8561999797821045\n"
     ]
    }
   ],
   "source": [
    "changing_neurons_or_optimizer(64, \"ADAM\")"
   ]
  },
  {
   "cell_type": "code",
   "execution_count": 41,
   "metadata": {},
   "outputs": [
    {
     "name": "stdout",
     "output_type": "stream",
     "text": [
      "Epoch 1/5\n",
      "235/235 [==============================] - 2s 6ms/step - loss: 0.5698 - accuracy: 0.8049 - val_loss: 0.4678 - val_accuracy: 0.8324\n",
      "Epoch 2/5\n",
      "235/235 [==============================] - 1s 6ms/step - loss: 0.4099 - accuracy: 0.8558 - val_loss: 0.4168 - val_accuracy: 0.8540\n",
      "Epoch 3/5\n",
      "235/235 [==============================] - 1s 6ms/step - loss: 0.3658 - accuracy: 0.8704 - val_loss: 0.3870 - val_accuracy: 0.8624\n",
      "Epoch 4/5\n",
      "235/235 [==============================] - 1s 6ms/step - loss: 0.3385 - accuracy: 0.8786 - val_loss: 0.3741 - val_accuracy: 0.8693\n",
      "Epoch 5/5\n",
      "235/235 [==============================] - 1s 6ms/step - loss: 0.3184 - accuracy: 0.8870 - val_loss: 0.3673 - val_accuracy: 0.8672\n",
      "313/313 - 0s - loss: 0.3673 - accuracy: 0.8672 - 440ms/epoch - 1ms/step\n",
      "\n",
      "Test accuracy: 0.8672000169754028\n"
     ]
    }
   ],
   "source": [
    "changing_neurons_or_optimizer(256, \"ADAM\")"
   ]
  },
  {
   "cell_type": "markdown",
   "metadata": {},
   "source": [
    "####  Вывод более 128 нейронов не стоит вводить"
   ]
  },
  {
   "cell_type": "markdown",
   "metadata": {},
   "source": [
    "### Изменение кол-ва слоёв"
   ]
  },
  {
   "cell_type": "markdown",
   "metadata": {},
   "source": [
    "#### 3 слоя"
   ]
  },
  {
   "cell_type": "code",
   "execution_count": 45,
   "metadata": {},
   "outputs": [
    {
     "name": "stdout",
     "output_type": "stream",
     "text": [
      "Epoch 1/5\n",
      "235/235 [==============================] - 2s 5ms/step - loss: 0.6009 - accuracy: 0.7929 - val_loss: 0.4579 - val_accuracy: 0.8377\n",
      "Epoch 2/5\n",
      "235/235 [==============================] - 1s 4ms/step - loss: 0.4088 - accuracy: 0.8558 - val_loss: 0.4113 - val_accuracy: 0.8540\n",
      "Epoch 3/5\n",
      "235/235 [==============================] - 1s 4ms/step - loss: 0.3628 - accuracy: 0.8700 - val_loss: 0.3931 - val_accuracy: 0.8606\n",
      "Epoch 4/5\n",
      "235/235 [==============================] - 1s 4ms/step - loss: 0.3407 - accuracy: 0.8783 - val_loss: 0.3791 - val_accuracy: 0.8651\n",
      "Epoch 5/5\n",
      "235/235 [==============================] - 1s 4ms/step - loss: 0.3165 - accuracy: 0.8862 - val_loss: 0.3592 - val_accuracy: 0.8706\n",
      "313/313 - 0s - loss: 0.3592 - accuracy: 0.8706 - 449ms/epoch - 1ms/step\n",
      "\n",
      "Test accuracy: 0.8705999851226807\n"
     ]
    }
   ],
   "source": [
    "model = Sequential([\n",
    "        Flatten(input_shape=(28, 28)),\n",
    "        Dense(128, activation='relu'),\n",
    "        Dense(128, activation='relu'),\n",
    "        Dense(10)\n",
    "    ])\n",
    "\n",
    "model.compile(optimizer=\"ADAM\",\n",
    "              loss=CategoricalCrossentropy(from_logits=True),\n",
    "              metrics=['accuracy'])\n",
    "    \n",
    "model.fit(X_train, y_train,\n",
    "          epochs=5,\n",
    "          batch_size=256,\n",
    "          validation_data=(X_test, y_test))\n",
    "    \n",
    "test_loss, test_acc = model.evaluate(X_test, y_test, verbose=2)\n",
    "\n",
    "print('\\nTest accuracy:', test_acc)"
   ]
  },
  {
   "cell_type": "markdown",
   "metadata": {},
   "source": [
    "#### 5 слоев"
   ]
  },
  {
   "cell_type": "code",
   "execution_count": 47,
   "metadata": {},
   "outputs": [
    {
     "name": "stdout",
     "output_type": "stream",
     "text": [
      "Epoch 1/5\n",
      "235/235 [==============================] - 2s 6ms/step - loss: 0.5987 - accuracy: 0.7914 - val_loss: 0.4462 - val_accuracy: 0.8402\n",
      "Epoch 2/5\n",
      "235/235 [==============================] - 1s 5ms/step - loss: 0.3942 - accuracy: 0.8585 - val_loss: 0.4287 - val_accuracy: 0.8444\n",
      "Epoch 3/5\n",
      "235/235 [==============================] - 1s 5ms/step - loss: 0.3472 - accuracy: 0.8723 - val_loss: 0.3872 - val_accuracy: 0.8639\n",
      "Epoch 4/5\n",
      "235/235 [==============================] - 1s 5ms/step - loss: 0.3208 - accuracy: 0.8826 - val_loss: 0.3751 - val_accuracy: 0.8651\n",
      "Epoch 5/5\n",
      "235/235 [==============================] - 1s 5ms/step - loss: 0.3007 - accuracy: 0.8889 - val_loss: 0.3609 - val_accuracy: 0.8677\n",
      "313/313 - 0s - loss: 0.3609 - accuracy: 0.8677 - 469ms/epoch - 1ms/step\n",
      "\n",
      "Test accuracy: 0.8676999807357788\n"
     ]
    }
   ],
   "source": [
    "model = Sequential([\n",
    "        Flatten(input_shape=(28, 28)),\n",
    "        Dense(128, activation='relu'),\n",
    "        Dense(128, activation='relu'),\n",
    "        Dense(128, activation='relu'),\n",
    "        Dense(128, activation='relu'),\n",
    "        Dense(10)\n",
    "    ])\n",
    "\n",
    "model.compile(optimizer=\"ADAM\",\n",
    "              loss=CategoricalCrossentropy(from_logits=True),\n",
    "              metrics=['accuracy'])\n",
    "    \n",
    "model.fit(X_train, y_train,\n",
    "          epochs=5,\n",
    "          batch_size=256,\n",
    "          validation_data=(X_test, y_test))\n",
    "    \n",
    "test_loss, test_acc = model.evaluate(X_test, y_test, verbose=2)\n",
    "\n",
    "print('\\nTest accuracy:', test_acc)"
   ]
  },
  {
   "cell_type": "markdown",
   "metadata": {},
   "source": [
    "#### Увеличение слоёв не дает какого-то сильного прироста в метриках"
   ]
  },
  {
   "cell_type": "markdown",
   "metadata": {},
   "source": [
    "### Проверка метрик на различных оптимизаторах"
   ]
  },
  {
   "cell_type": "code",
   "execution_count": 51,
   "metadata": {},
   "outputs": [
    {
     "name": "stdout",
     "output_type": "stream",
     "text": [
      "Epoch 1/5\n",
      "235/235 [==============================] - 1s 4ms/step - loss: 0.5972 - accuracy: 0.7983 - val_loss: 0.4890 - val_accuracy: 0.8259\n",
      "Epoch 2/5\n",
      "235/235 [==============================] - 1s 4ms/step - loss: 0.4210 - accuracy: 0.8532 - val_loss: 0.4390 - val_accuracy: 0.8472\n",
      "Epoch 3/5\n",
      "235/235 [==============================] - 1s 4ms/step - loss: 0.3774 - accuracy: 0.8679 - val_loss: 0.4094 - val_accuracy: 0.8552\n",
      "Epoch 4/5\n",
      "235/235 [==============================] - 1s 4ms/step - loss: 0.3518 - accuracy: 0.8753 - val_loss: 0.3853 - val_accuracy: 0.8634\n",
      "Epoch 5/5\n",
      "235/235 [==============================] - 1s 4ms/step - loss: 0.3372 - accuracy: 0.8797 - val_loss: 0.3691 - val_accuracy: 0.8687\n",
      "313/313 - 0s - loss: 0.3691 - accuracy: 0.8687 - 454ms/epoch - 1ms/step\n",
      "\n",
      "Test accuracy: 0.8687000274658203\n"
     ]
    }
   ],
   "source": [
    "# буду использовать 2х слойную модель, но изменять оптимизаторы\n",
    "changing_neurons_or_optimizer(128, \"ADAM\")"
   ]
  },
  {
   "cell_type": "code",
   "execution_count": 52,
   "metadata": {},
   "outputs": [
    {
     "name": "stdout",
     "output_type": "stream",
     "text": [
      "Epoch 1/5\n",
      "235/235 [==============================] - 2s 5ms/step - loss: 1.2998 - accuracy: 0.6186 - val_loss: 0.9366 - val_accuracy: 0.6941\n",
      "Epoch 2/5\n",
      "235/235 [==============================] - 1s 4ms/step - loss: 0.8272 - accuracy: 0.7311 - val_loss: 0.7743 - val_accuracy: 0.7341\n",
      "Epoch 3/5\n",
      "235/235 [==============================] - 1s 4ms/step - loss: 0.7162 - accuracy: 0.7638 - val_loss: 0.6963 - val_accuracy: 0.7625\n",
      "Epoch 4/5\n",
      "235/235 [==============================] - 1s 4ms/step - loss: 0.6562 - accuracy: 0.7832 - val_loss: 0.6527 - val_accuracy: 0.7789\n",
      "Epoch 5/5\n",
      "235/235 [==============================] - 1s 4ms/step - loss: 0.6166 - accuracy: 0.7978 - val_loss: 0.6209 - val_accuracy: 0.7888\n",
      "313/313 - 1s - loss: 0.6209 - accuracy: 0.7888 - 505ms/epoch - 2ms/step\n",
      "\n",
      "Test accuracy: 0.7888000011444092\n"
     ]
    }
   ],
   "source": [
    "changing_neurons_or_optimizer(128, \"SGD\")"
   ]
  },
  {
   "cell_type": "code",
   "execution_count": 53,
   "metadata": {},
   "outputs": [
    {
     "name": "stdout",
     "output_type": "stream",
     "text": [
      "Epoch 1/5\n",
      "235/235 [==============================] - 2s 5ms/step - loss: 0.6487 - accuracy: 0.7747 - val_loss: 0.5812 - val_accuracy: 0.7875\n",
      "Epoch 2/5\n",
      "235/235 [==============================] - 1s 5ms/step - loss: 0.4470 - accuracy: 0.8412 - val_loss: 0.4546 - val_accuracy: 0.8375\n",
      "Epoch 3/5\n",
      "235/235 [==============================] - 1s 5ms/step - loss: 0.3967 - accuracy: 0.8583 - val_loss: 0.4248 - val_accuracy: 0.8524\n",
      "Epoch 4/5\n",
      "235/235 [==============================] - 1s 5ms/step - loss: 0.3642 - accuracy: 0.8678 - val_loss: 0.3961 - val_accuracy: 0.8601\n",
      "Epoch 5/5\n",
      "235/235 [==============================] - 1s 5ms/step - loss: 0.3436 - accuracy: 0.8753 - val_loss: 0.4286 - val_accuracy: 0.8396\n",
      "313/313 - 0s - loss: 0.4286 - accuracy: 0.8396 - 464ms/epoch - 1ms/step\n",
      "\n",
      "Test accuracy: 0.8396000266075134\n"
     ]
    }
   ],
   "source": [
    "changing_neurons_or_optimizer(128, \"RMSProp\")"
   ]
  },
  {
   "cell_type": "markdown",
   "metadata": {},
   "source": [
    "#### Вывод: на первом месте адам после него RMSProp, SGD"
   ]
  }
 ],
 "metadata": {
  "kernelspec": {
   "display_name": "Python 3",
   "language": "python",
   "name": "python3"
  },
  "language_info": {
   "codemirror_mode": {
    "name": "ipython",
    "version": 3
   },
   "file_extension": ".py",
   "mimetype": "text/x-python",
   "name": "python",
   "nbconvert_exporter": "python",
   "pygments_lexer": "ipython3",
   "version": "3.8.5"
  }
 },
 "nbformat": 4,
 "nbformat_minor": 4
}
