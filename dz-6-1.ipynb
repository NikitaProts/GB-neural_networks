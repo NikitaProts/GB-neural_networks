{
 "cells": [
  {
   "cell_type": "code",
   "execution_count": 1,
   "metadata": {},
   "outputs": [],
   "source": [
    "import numpy as np \n",
    "import pandas as pd \n",
    "import os\n",
    "import cv2\n",
    "import tensorflow as tf\n",
    "from sklearn.metrics import jaccard_score, confusion_matrix\n",
    "from tensorflow.keras.preprocessing.image import ImageDataGenerator "
   ]
  },
  {
   "cell_type": "code",
   "execution_count": 2,
   "metadata": {},
   "outputs": [
    {
     "name": "stdout",
     "output_type": "stream",
     "text": [
      "(366, 256, 256, 1)\n",
      "(366, 256, 256, 1)\n"
     ]
    }
   ],
   "source": [
    "dirname_img = 'data_2/images/'\n",
    "dirname_mask = 'data_2/masks/'\n",
    "images = list()\n",
    "masks = list()\n",
    "for imagepath, maskpath in zip(os.listdir(dirname_img), os.listdir(dirname_mask) ):\n",
    "    #print(dirname_img + imagepath)\n",
    "    image = cv2.imread(dirname_img + imagepath)\n",
    "    image = cv2.resize(image, (256, 256))\n",
    "    image = cv2.cvtColor(image, cv2.COLOR_RGB2GRAY)\n",
    "    image = np.reshape(image, (256,256,-1))\n",
    "    images.append(image)\n",
    "    \n",
    "    mask = cv2.imread(dirname_img + maskpath)\n",
    "    mask = cv2.resize(mask, (256, 256))\n",
    "    mask = cv2.cvtColor(mask, cv2.COLOR_RGB2GRAY)\n",
    "    mask = np.reshape(mask, (256,256,-1))\n",
    "    masks.append(mask)\n",
    "    \n",
    "images = np.array(images)/255\n",
    "masks = np.array(np.array(masks)/255 > 0.5, dtype='f')\n",
    "    \n",
    "print(images.shape)\n",
    "print(masks.shape)"
   ]
  },
  {
   "cell_type": "code",
   "execution_count": 3,
   "metadata": {},
   "outputs": [
    {
     "name": "stdout",
     "output_type": "stream",
     "text": [
      "Train 194, Validation 82, Test 90\n"
     ]
    }
   ],
   "source": [
    "mat = np.random.choice(a=[False, True], size=(len(images)), p=[0.75, 0.25])\n",
    "validation_images = images[mat]\n",
    "validation_masks = masks[mat]\n",
    "\n",
    "images = images[~mat]\n",
    "masks = masks[~mat]\n",
    "\n",
    "mat = np.random.choice(a=[False, True], size=(len(images)), p=[0.7, 0.3])\n",
    "\n",
    "test_images = images[mat]\n",
    "test_masks = masks[mat]\n",
    "\n",
    "images = images[~mat]\n",
    "masks = masks[~mat]\n",
    "\n",
    "print(f'Train {len(images)}, Validation {len(validation_images)}, Test {len(test_images)}')"
   ]
  },
  {
   "cell_type": "code",
   "execution_count": 4,
   "metadata": {},
   "outputs": [],
   "source": [
    "EPOCHS = 100\n",
    "BATCH_SIZE = 8\n",
    "FEATURE_CHANNELS = [32,64,128,256,512]\n",
    "IMAGE_RES = 256\n",
    "SEED = 111\n",
    "AUGUMENTATION_PARAMETERS = {\n",
    "    'rotation_range': 30,\n",
    "    'zoom_range': 0.1,\n",
    "    'width_shift_range': 0.1,\n",
    "    'height_shift_range': 0.1,\n",
    "    'fill_mode': 'constant',\n",
    "    'cval': 0.0,\n",
    "    'shear_range': 0.2,\n",
    "    'horizontal_flip':True,\n",
    "    'vertical_flip': True\n",
    "    \n",
    "}"
   ]
  },
  {
   "cell_type": "code",
   "execution_count": 5,
   "metadata": {},
   "outputs": [
    {
     "name": "stdout",
     "output_type": "stream",
     "text": [
      "Train steps 25\n",
      "Validation steps 11\n"
     ]
    }
   ],
   "source": [
    "datagen = ImageDataGenerator(**AUGUMENTATION_PARAMETERS)\n",
    "validation_datagen = ImageDataGenerator() \n",
    "\n",
    "image_iterator = datagen.flow(images, batch_size=BATCH_SIZE, shuffle=True, seed=SEED)\n",
    "mask_iterator = datagen.flow(masks, batch_size=BATCH_SIZE, shuffle=True, seed=SEED)\n",
    "train_iterator = zip(image_iterator, mask_iterator)\n",
    "train_steps = len(image_iterator)\n",
    "\n",
    "valid_image_iterator = validation_datagen.flow(validation_images, batch_size=BATCH_SIZE, shuffle=True, seed=SEED)\n",
    "valid_mask_iterator = validation_datagen.flow(validation_masks, batch_size=BATCH_SIZE, shuffle=True, seed=SEED)\n",
    "valid_iterator = zip(valid_image_iterator, valid_mask_iterator)\n",
    "valid_steps = len(valid_image_iterator)\n",
    "\n",
    "print(f'Train steps {train_steps}\\nValidation steps {valid_steps}')"
   ]
  },
  {
   "cell_type": "code",
   "execution_count": 6,
   "metadata": {},
   "outputs": [],
   "source": [
    "def down_block(x, filters, kernel_size=(3,3), padding=\"same\", strides=1):\n",
    "    with tf.device('/device:GPU:0'):\n",
    "        c = tf.keras.layers.Conv2D(filters, kernel_size, padding=padding, strides=strides, activation='relu')(x)\n",
    "        c = tf.keras.layers.Conv2D(filters, kernel_size, padding=padding, strides=strides, activation='relu')(c)\n",
    "\n",
    "        p = tf.keras.layers.MaxPool2D((2,2), (2,2))(c)\n",
    "    return c, p \n",
    "\n",
    "def up_block(x, skip, filters, kernel_size=(3,3), padding=\"same\", strides=1):\n",
    "    with tf.device('/device:GPU:0'):\n",
    "        up_sampling = tf.keras.layers.UpSampling2D((2,2))(x)\n",
    "        concat = tf.keras.layers.Concatenate()([up_sampling, skip])\n",
    "\n",
    "        c = tf.keras.layers.Conv2D(filters, kernel_size, padding=padding, strides=strides, activation='relu')(concat)\n",
    "        c = tf.keras.layers.Conv2D(filters, kernel_size, padding=padding, strides=strides, activation='relu')(c)\n",
    "\n",
    "    return c\n",
    "\n",
    "def bottleneck(x, filters, kernel_size=(3,3), padding=\"same\", strides=1):\n",
    "    with tf.device('/device:GPU:0'):\n",
    "        c = tf.keras.layers.Conv2D(filters, kernel_size, padding=padding, strides=strides, activation='relu')(x)\n",
    "        c = tf.keras.layers.Conv2D(filters, kernel_size, padding=padding, strides=strides, activation='relu')(c)\n",
    "\n",
    "    return c\n",
    "\n",
    "def UNet(feature_channels, image_size, input_channels=1):\n",
    "    feature_maps = feature_channels  #[32,64,128,256,512]\n",
    "    inputs = tf.keras.layers.Input( (image_size, image_size, input_channels) )\n",
    "\n",
    "    pool_0 = inputs\n",
    "    conv_1, pool_1 = down_block(pool_0, feature_maps[0]) \n",
    "    conv_2, pool_2 = down_block(pool_1, feature_maps[1]) \n",
    "    conv_3, pool_3 = down_block(pool_2, feature_maps[2]) \n",
    "    conv_4, pool_4 = down_block(pool_3, feature_maps[3]) \n",
    "\n",
    "    bn = bottleneck(pool_4, feature_maps[4])\n",
    "\n",
    "    ups_1 = up_block(bn, conv_4, feature_maps[3]) \n",
    "    ups_2 = up_block(ups_1, conv_3, feature_maps[2]) \n",
    "    ups_3 = up_block(ups_2, conv_2, feature_maps[1]) \n",
    "    ups_4 = up_block(ups_3, conv_1, feature_maps[0]) \n",
    "\n",
    "    outputs = tf.keras.layers.Conv2D(1, (1,1), padding='same', activation='sigmoid')(ups_4)\n",
    "\n",
    "    model = tf.keras.models.Model(inputs, outputs)\n",
    "    return model"
   ]
  },
  {
   "cell_type": "code",
   "execution_count": 7,
   "metadata": {},
   "outputs": [
    {
     "name": "stdout",
     "output_type": "stream",
     "text": [
      "Model: \"model\"\n",
      "__________________________________________________________________________________________________\n",
      " Layer (type)                   Output Shape         Param #     Connected to                     \n",
      "==================================================================================================\n",
      " input_1 (InputLayer)           [(None, 256, 256, 1  0           []                               \n",
      "                                )]                                                                \n",
      "                                                                                                  \n",
      " conv2d (Conv2D)                (None, 256, 256, 32  320         ['input_1[0][0]']                \n",
      "                                )                                                                 \n",
      "                                                                                                  \n",
      " conv2d_1 (Conv2D)              (None, 256, 256, 32  9248        ['conv2d[0][0]']                 \n",
      "                                )                                                                 \n",
      "                                                                                                  \n",
      " max_pooling2d (MaxPooling2D)   (None, 128, 128, 32  0           ['conv2d_1[0][0]']               \n",
      "                                )                                                                 \n",
      "                                                                                                  \n",
      " conv2d_2 (Conv2D)              (None, 128, 128, 64  18496       ['max_pooling2d[0][0]']          \n",
      "                                )                                                                 \n",
      "                                                                                                  \n",
      " conv2d_3 (Conv2D)              (None, 128, 128, 64  36928       ['conv2d_2[0][0]']               \n",
      "                                )                                                                 \n",
      "                                                                                                  \n",
      " max_pooling2d_1 (MaxPooling2D)  (None, 64, 64, 64)  0           ['conv2d_3[0][0]']               \n",
      "                                                                                                  \n",
      " conv2d_4 (Conv2D)              (None, 64, 64, 128)  73856       ['max_pooling2d_1[0][0]']        \n",
      "                                                                                                  \n",
      " conv2d_5 (Conv2D)              (None, 64, 64, 128)  147584      ['conv2d_4[0][0]']               \n",
      "                                                                                                  \n",
      " max_pooling2d_2 (MaxPooling2D)  (None, 32, 32, 128)  0          ['conv2d_5[0][0]']               \n",
      "                                                                                                  \n",
      " conv2d_6 (Conv2D)              (None, 32, 32, 256)  295168      ['max_pooling2d_2[0][0]']        \n",
      "                                                                                                  \n",
      " conv2d_7 (Conv2D)              (None, 32, 32, 256)  590080      ['conv2d_6[0][0]']               \n",
      "                                                                                                  \n",
      " max_pooling2d_3 (MaxPooling2D)  (None, 16, 16, 256)  0          ['conv2d_7[0][0]']               \n",
      "                                                                                                  \n",
      " conv2d_8 (Conv2D)              (None, 16, 16, 512)  1180160     ['max_pooling2d_3[0][0]']        \n",
      "                                                                                                  \n",
      " conv2d_9 (Conv2D)              (None, 16, 16, 512)  2359808     ['conv2d_8[0][0]']               \n",
      "                                                                                                  \n",
      " up_sampling2d (UpSampling2D)   (None, 32, 32, 512)  0           ['conv2d_9[0][0]']               \n",
      "                                                                                                  \n",
      " concatenate (Concatenate)      (None, 32, 32, 768)  0           ['up_sampling2d[0][0]',          \n",
      "                                                                  'conv2d_7[0][0]']               \n",
      "                                                                                                  \n",
      " conv2d_10 (Conv2D)             (None, 32, 32, 256)  1769728     ['concatenate[0][0]']            \n",
      "                                                                                                  \n",
      " conv2d_11 (Conv2D)             (None, 32, 32, 256)  590080      ['conv2d_10[0][0]']              \n",
      "                                                                                                  \n",
      " up_sampling2d_1 (UpSampling2D)  (None, 64, 64, 256)  0          ['conv2d_11[0][0]']              \n",
      "                                                                                                  \n",
      " concatenate_1 (Concatenate)    (None, 64, 64, 384)  0           ['up_sampling2d_1[0][0]',        \n",
      "                                                                  'conv2d_5[0][0]']               \n",
      "                                                                                                  \n",
      " conv2d_12 (Conv2D)             (None, 64, 64, 128)  442496      ['concatenate_1[0][0]']          \n",
      "                                                                                                  \n",
      " conv2d_13 (Conv2D)             (None, 64, 64, 128)  147584      ['conv2d_12[0][0]']              \n",
      "                                                                                                  \n",
      " up_sampling2d_2 (UpSampling2D)  (None, 128, 128, 12  0          ['conv2d_13[0][0]']              \n",
      "                                8)                                                                \n",
      "                                                                                                  \n",
      " concatenate_2 (Concatenate)    (None, 128, 128, 19  0           ['up_sampling2d_2[0][0]',        \n",
      "                                2)                                'conv2d_3[0][0]']               \n",
      "                                                                                                  \n",
      " conv2d_14 (Conv2D)             (None, 128, 128, 64  110656      ['concatenate_2[0][0]']          \n",
      "                                )                                                                 \n",
      "                                                                                                  \n",
      " conv2d_15 (Conv2D)             (None, 128, 128, 64  36928       ['conv2d_14[0][0]']              \n",
      "                                )                                                                 \n",
      "                                                                                                  \n",
      " up_sampling2d_3 (UpSampling2D)  (None, 256, 256, 64  0          ['conv2d_15[0][0]']              \n",
      "                                )                                                                 \n",
      "                                                                                                  \n",
      " concatenate_3 (Concatenate)    (None, 256, 256, 96  0           ['up_sampling2d_3[0][0]',        \n",
      "                                )                                 'conv2d_1[0][0]']               \n",
      "                                                                                                  \n",
      " conv2d_16 (Conv2D)             (None, 256, 256, 32  27680       ['concatenate_3[0][0]']          \n",
      "                                )                                                                 \n",
      "                                                                                                  \n",
      " conv2d_17 (Conv2D)             (None, 256, 256, 32  9248        ['conv2d_16[0][0]']              \n",
      "                                )                                                                 \n",
      "                                                                                                  \n",
      " conv2d_18 (Conv2D)             (None, 256, 256, 1)  33          ['conv2d_17[0][0]']              \n",
      "                                                                                                  \n"
     ]
    },
    {
     "name": "stdout",
     "output_type": "stream",
     "text": [
      "==================================================================================================\n",
      "Total params: 7,846,081\n",
      "Trainable params: 7,846,081\n",
      "Non-trainable params: 0\n",
      "__________________________________________________________________________________________________\n",
      "None\n"
     ]
    }
   ],
   "source": [
    "model  = UNet(FEATURE_CHANNELS, IMAGE_RES, images.shape[-1])  \n",
    "model.compile(\n",
    "    optimizer = tf.keras.optimizers.Adam(),\n",
    "    loss='binary_crossentropy',\n",
    "    metrics=[\n",
    "        'acc',\n",
    "        tf.keras.metrics.Precision(),\n",
    "        tf.keras.metrics.AUC(),\n",
    "        tf.keras.metrics.Recall()\n",
    "    ]\n",
    ")\n",
    "print(model.summary())"
   ]
  },
  {
   "cell_type": "code",
   "execution_count": 8,
   "metadata": {},
   "outputs": [
    {
     "name": "stdout",
     "output_type": "stream",
     "text": [
      "Epoch 1/10\n",
      "25/25 [==============================] - 151s 6s/step - loss: 0.4447 - acc: 0.8857 - precision: 0.0149 - auc: 0.5275 - recall: 1.9791e-04 - val_loss: 0.1353 - val_acc: 0.8882 - val_precision: 0.0000e+00 - val_auc: 0.9726 - val_recall: 0.0000e+00\n",
      "Epoch 2/10\n",
      "25/25 [==============================] - 143s 6s/step - loss: 0.1067 - acc: 0.9031 - precision: 0.9934 - auc: 0.9870 - recall: 0.1252 - val_loss: 0.0855 - val_acc: 0.9624 - val_precision: 0.9917 - val_auc: 0.9819 - val_recall: 0.6932\n",
      "Epoch 3/10\n",
      "25/25 [==============================] - 142s 6s/step - loss: 0.0432 - acc: 0.9667 - precision: 0.9565 - auc: 0.9939 - recall: 0.8506 - val_loss: 0.0321 - val_acc: 0.9692 - val_precision: 0.9870 - val_auc: 0.9970 - val_recall: 0.8226\n",
      "Epoch 4/10\n",
      "25/25 [==============================] - 141s 6s/step - loss: 0.0298 - acc: 0.9698 - precision: 0.9805 - auc: 0.9972 - recall: 0.8723 - val_loss: 0.0265 - val_acc: 0.9711 - val_precision: 0.9896 - val_auc: 0.9982 - val_recall: 0.8722\n",
      "Epoch 5/10\n",
      "25/25 [==============================] - 141s 6s/step - loss: 0.0261 - acc: 0.9716 - precision: 0.9890 - auc: 0.9974 - recall: 0.8639 - val_loss: 0.0217 - val_acc: 0.9734 - val_precision: 0.9937 - val_auc: 0.9988 - val_recall: 0.8838\n",
      "Epoch 6/10\n",
      "25/25 [==============================] - 141s 6s/step - loss: 0.0234 - acc: 0.9710 - precision: 0.9946 - auc: 0.9982 - recall: 0.8702 - val_loss: 0.0224 - val_acc: 0.9716 - val_precision: 0.9915 - val_auc: 0.9988 - val_recall: 0.9032\n",
      "Epoch 7/10\n",
      "25/25 [==============================] - 141s 6s/step - loss: 0.0225 - acc: 0.9721 - precision: 0.9927 - auc: 0.9979 - recall: 0.8704 - val_loss: 0.0295 - val_acc: 0.9702 - val_precision: 0.9994 - val_auc: 0.9910 - val_recall: 0.7919\n",
      "Epoch 8/10\n",
      "25/25 [==============================] - 143s 6s/step - loss: 0.0217 - acc: 0.9722 - precision: 0.9950 - auc: 0.9979 - recall: 0.8684 - val_loss: 0.0193 - val_acc: 0.9735 - val_precision: 0.9967 - val_auc: 0.9986 - val_recall: 0.8870\n",
      "Epoch 9/10\n",
      "25/25 [==============================] - 148s 6s/step - loss: 0.0209 - acc: 0.9711 - precision: 0.9976 - auc: 0.9984 - recall: 0.8659 - val_loss: 0.0189 - val_acc: 0.9737 - val_precision: 0.9977 - val_auc: 0.9988 - val_recall: 0.8823\n",
      "Epoch 10/10\n",
      "25/25 [==============================] - 154s 6s/step - loss: 0.0214 - acc: 0.9711 - precision: 0.9969 - auc: 0.9980 - recall: 0.8682 - val_loss: 0.0208 - val_acc: 0.9722 - val_precision: 0.9925 - val_auc: 0.9991 - val_recall: 0.9095\n"
     ]
    },
    {
     "data": {
      "text/plain": [
       "<keras.callbacks.History at 0x241848cec40>"
      ]
     },
     "execution_count": 8,
     "metadata": {},
     "output_type": "execute_result"
    }
   ],
   "source": [
    "model.fit(\n",
    "    train_iterator,\n",
    "    steps_per_epoch=train_steps,\n",
    "    epochs=10,\n",
    "    validation_steps=train_steps,\n",
    "    validation_data=train_iterator,\n",
    "    callbacks=[\n",
    "        tf.keras.callbacks.EarlyStopping(monitor='val_loss', mode='min', patience=10, restore_best_weights=True, verbose=1) \n",
    "        ]\n",
    "\n",
    ")"
   ]
  },
  {
   "cell_type": "code",
   "execution_count": null,
   "metadata": {},
   "outputs": [],
   "source": []
  },
  {
   "cell_type": "code",
   "execution_count": null,
   "metadata": {},
   "outputs": [],
   "source": []
  },
  {
   "cell_type": "code",
   "execution_count": null,
   "metadata": {},
   "outputs": [],
   "source": []
  },
  {
   "cell_type": "code",
   "execution_count": null,
   "metadata": {},
   "outputs": [],
   "source": []
  }
 ],
 "metadata": {
  "kernelspec": {
   "display_name": "Python 3",
   "language": "python",
   "name": "python3"
  },
  "language_info": {
   "codemirror_mode": {
    "name": "ipython",
    "version": 3
   },
   "file_extension": ".py",
   "mimetype": "text/x-python",
   "name": "python",
   "nbconvert_exporter": "python",
   "pygments_lexer": "ipython3",
   "version": "3.8.5"
  }
 },
 "nbformat": 4,
 "nbformat_minor": 4
}
