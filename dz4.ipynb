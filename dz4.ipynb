{
 "cells": [
  {
   "cell_type": "code",
   "execution_count": 28,
   "metadata": {},
   "outputs": [],
   "source": [
    "from tensorflow.keras.datasets import cifar10\n",
    "from tensorflow.keras.preprocessing.image import ImageDataGenerator\n",
    "from tensorflow.keras.utils import to_categorical\n",
    "from tensorflow.keras.models import Sequential, Model\n",
    "from tensorflow.keras.layers import Dense, Dropout, Activation, Flatten, Concatenate\n",
    "from tensorflow.keras.layers import Conv2D, MaxPooling2D, Input\n",
    "import os"
   ]
  },
  {
   "cell_type": "code",
   "execution_count": 15,
   "metadata": {},
   "outputs": [],
   "source": [
    "from keras.layers import Dropout\n",
    "from tensorflow.keras.utils import plot_model "
   ]
  },
  {
   "cell_type": "code",
   "execution_count": 3,
   "metadata": {},
   "outputs": [],
   "source": [
    "classes = ['самолет', 'автомобиль', 'птица', 'кот', 'олень', 'собака', 'лягушка', 'лошадь', 'корабль', 'грузовик']"
   ]
  },
  {
   "cell_type": "code",
   "execution_count": 4,
   "metadata": {},
   "outputs": [
    {
     "name": "stdout",
     "output_type": "stream",
     "text": [
      "Downloading data from https://www.cs.toronto.edu/~kriz/cifar-10-python.tar.gz\n",
      "170500096/170498071 [==============================] - 455s 3us/step\n",
      "170508288/170498071 [==============================] - 455s 3us/step\n",
      "X_train shape: (50000, 32, 32, 3)\n",
      "50000 тренировочные примеры\n",
      "10000 тестовые примеры\n"
     ]
    }
   ],
   "source": [
    "batch_size = 512\n",
    "num_classes = 10\n",
    "epochs = 5\n",
    "data_augmentation = False\n",
    "num_predictions = 20\n",
    "\n",
    "# разделение тренировочной и тестовой выборки\n",
    "(X_train, y_train), (X_test, y_test) = cifar10.load_data()\n",
    "print('X_train shape:', X_train.shape)\n",
    "print(X_train.shape[0], 'тренировочные примеры')\n",
    "print(X_test.shape[0], 'тестовые примеры')"
   ]
  },
  {
   "cell_type": "code",
   "execution_count": 6,
   "metadata": {},
   "outputs": [],
   "source": [
    "# преобразование матрицы чисел 0-9 в бинарную матрицу чисел 0-1\n",
    "y_train = to_categorical(y_train, num_classes)\n",
    "y_test = to_categorical(y_test, num_classes)\n",
    "\n",
    "\n",
    "X_train = X_train / 255.0\n",
    "X_test = X_test / 255.0"
   ]
  },
  {
   "cell_type": "markdown",
   "metadata": {},
   "source": [
    "### Baseline. 2 свёртки, пуллинг"
   ]
  },
  {
   "cell_type": "code",
   "execution_count": 14,
   "metadata": {},
   "outputs": [],
   "source": [
    "# конфигурирование слоев нейросети\n",
    "model = Sequential()\n",
    "\n",
    "# слои нейросети отвественные за свертку и max-pooling\n",
    "model.add(Conv2D(32, (3, 3), padding='same', input_shape=X_train.shape[1:]))\n",
    "model.add(Activation('relu'))\n",
    "model.add(Conv2D(32, (3, 3)))\n",
    "model.add(Activation('relu'))\n",
    "model.add(MaxPooling2D(pool_size=(2, 2)))\n",
    "model.add(Dropout(0.25))\n"
   ]
  },
  {
   "cell_type": "code",
   "execution_count": 18,
   "metadata": {},
   "outputs": [
    {
     "name": "stdout",
     "output_type": "stream",
     "text": [
      "Model: \"sequential_2\"\n",
      "_________________________________________________________________\n",
      " Layer (type)                Output Shape              Param #   \n",
      "=================================================================\n",
      " conv2d_10 (Conv2D)          (None, 32, 32, 32)        896       \n",
      "                                                                 \n",
      " activation_14 (Activation)  (None, 32, 32, 32)        0         \n",
      "                                                                 \n",
      " conv2d_11 (Conv2D)          (None, 30, 30, 32)        9248      \n",
      "                                                                 \n",
      " activation_15 (Activation)  (None, 30, 30, 32)        0         \n",
      "                                                                 \n",
      " max_pooling2d_5 (MaxPooling  (None, 15, 15, 32)       0         \n",
      " 2D)                                                             \n",
      "                                                                 \n",
      " dropout_8 (Dropout)         (None, 15, 15, 32)        0         \n",
      "                                                                 \n",
      " flatten_2 (Flatten)         (None, 7200)              0         \n",
      "                                                                 \n",
      " dense_4 (Dense)             (None, 512)               3686912   \n",
      "                                                                 \n",
      " activation_16 (Activation)  (None, 512)               0         \n",
      "                                                                 \n",
      " dropout_9 (Dropout)         (None, 512)               0         \n",
      "                                                                 \n",
      " dense_5 (Dense)             (None, 10)                5130      \n",
      "                                                                 \n",
      " activation_17 (Activation)  (None, 10)                0         \n",
      "                                                                 \n",
      " flatten_3 (Flatten)         (None, 10)                0         \n",
      "                                                                 \n",
      " dense_6 (Dense)             (None, 512)               5632      \n",
      "                                                                 \n",
      " activation_18 (Activation)  (None, 512)               0         \n",
      "                                                                 \n",
      " dropout_10 (Dropout)        (None, 512)               0         \n",
      "                                                                 \n",
      " dense_7 (Dense)             (None, 10)                5130      \n",
      "                                                                 \n",
      " activation_19 (Activation)  (None, 10)                0         \n",
      "                                                                 \n",
      " flatten_4 (Flatten)         (None, 10)                0         \n",
      "                                                                 \n",
      " dense_8 (Dense)             (None, 512)               5632      \n",
      "                                                                 \n",
      " activation_20 (Activation)  (None, 512)               0         \n",
      "                                                                 \n",
      " dropout_11 (Dropout)        (None, 512)               0         \n",
      "                                                                 \n",
      " dense_9 (Dense)             (None, 10)                5130      \n",
      "                                                                 \n",
      " activation_21 (Activation)  (None, 10)                0         \n",
      "                                                                 \n",
      "=================================================================\n",
      "Total params: 3,723,710\n",
      "Trainable params: 3,723,710\n",
      "Non-trainable params: 0\n",
      "_________________________________________________________________\n"
     ]
    }
   ],
   "source": [
    "# полносвязные слои нейронной сети\n",
    "model.add(Flatten())\n",
    "model.add(Dense(512))\n",
    "model.add(Activation('relu'))\n",
    "model.add(Dropout(0.5))\n",
    "model.add(Dense(num_classes))\n",
    "model.add(Activation('softmax'))\n",
    "\n",
    "model.summary()\n",
    "# компиляция модели\n",
    "model.compile(loss='categorical_crossentropy',\n",
    "              optimizer='SGD',\n",
    "              metrics=['accuracy'])\n"
   ]
  },
  {
   "cell_type": "code",
   "execution_count": 19,
   "metadata": {},
   "outputs": [
    {
     "name": "stdout",
     "output_type": "stream",
     "text": [
      "Использование data augmentation\n",
      "Epoch 1/5\n",
      "98/98 [==============================] - 63s 629ms/step - loss: 2.3030 - accuracy: 0.1001 - val_loss: 2.3027 - val_accuracy: 0.1000\n",
      "Epoch 2/5\n",
      "98/98 [==============================] - 66s 668ms/step - loss: 2.3029 - accuracy: 0.0996 - val_loss: 2.3027 - val_accuracy: 0.1000\n",
      "Epoch 3/5\n",
      "98/98 [==============================] - 71s 721ms/step - loss: 2.3027 - accuracy: 0.1015 - val_loss: 2.3026 - val_accuracy: 0.1000\n",
      "Epoch 4/5\n",
      "98/98 [==============================] - 78s 784ms/step - loss: 2.3029 - accuracy: 0.1010 - val_loss: 2.3026 - val_accuracy: 0.1000\n",
      "Epoch 5/5\n",
      "98/98 [==============================] - 77s 781ms/step - loss: 2.3028 - accuracy: 0.0996 - val_loss: 2.3026 - val_accuracy: 0.1000\n"
     ]
    }
   ],
   "source": [
    "data_augmentation = True\n",
    "if not data_augmentation:\n",
    "    print('Не используется data augmentation')\n",
    "    model.fit(X_train, y_train,\n",
    "              batch_size=batch_size,\n",
    "              epochs=epochs,\n",
    "              validation_data=(X_test, y_test),\n",
    "              shuffle=True)\n",
    "else:\n",
    "    print('Использование data augmentation')\n",
    "    # Препроцессинг и data augmentation в реальном времени:\n",
    "    datagen = ImageDataGenerator(\n",
    "        featurewise_center=False,\n",
    "        samplewise_center=False,\n",
    "        featurewise_std_normalization=False,\n",
    "        samplewise_std_normalization=False,\n",
    "        zca_whitening=False, \n",
    "        zca_epsilon=1e-06, \n",
    "        rotation_range=10, \n",
    "        width_shift_range=0.1,\n",
    "        height_shift_range=0.1,\n",
    "        shear_range=0., \n",
    "        zoom_range=0.2, \n",
    "        channel_shift_range=0.,\n",
    "        fill_mode='nearest',\n",
    "        cval=0.,\n",
    "        horizontal_flip=True,\n",
    "        vertical_flip=False,\n",
    "        rescale=None,\n",
    "        preprocessing_function=None,\n",
    "        data_format=None,\n",
    "        validation_split=0.0)\n",
    "\n",
    "\n",
    "    train_gen = datagen.flow(X_train, \n",
    "                             y_train,\n",
    "                             batch_size=batch_size)\n",
    "\n",
    "    # запуск data augmentation через fit_generator\n",
    "    model.fit(train_gen,\n",
    "                        epochs=epochs,\n",
    "                        validation_data=(X_test, y_test),\n",
    "                        workers=4)"
   ]
  },
  {
   "cell_type": "markdown",
   "metadata": {},
   "source": [
    "### Увеличение слоёв conv-pool, изменение оптимизатора на ADAM"
   ]
  },
  {
   "cell_type": "code",
   "execution_count": 20,
   "metadata": {},
   "outputs": [
    {
     "name": "stdout",
     "output_type": "stream",
     "text": [
      "Model: \"sequential_3\"\n",
      "_________________________________________________________________\n",
      " Layer (type)                Output Shape              Param #   \n",
      "=================================================================\n",
      " conv2d_12 (Conv2D)          (None, 32, 32, 32)        896       \n",
      "                                                                 \n",
      " activation_22 (Activation)  (None, 32, 32, 32)        0         \n",
      "                                                                 \n",
      " conv2d_13 (Conv2D)          (None, 30, 30, 32)        9248      \n",
      "                                                                 \n",
      " activation_23 (Activation)  (None, 30, 30, 32)        0         \n",
      "                                                                 \n",
      " max_pooling2d_6 (MaxPooling  (None, 15, 15, 32)       0         \n",
      " 2D)                                                             \n",
      "                                                                 \n",
      " dropout_12 (Dropout)        (None, 15, 15, 32)        0         \n",
      "                                                                 \n",
      " conv2d_14 (Conv2D)          (None, 15, 15, 64)        18496     \n",
      "                                                                 \n",
      " activation_24 (Activation)  (None, 15, 15, 64)        0         \n",
      "                                                                 \n",
      " conv2d_15 (Conv2D)          (None, 13, 13, 64)        36928     \n",
      "                                                                 \n",
      " activation_25 (Activation)  (None, 13, 13, 64)        0         \n",
      "                                                                 \n",
      " max_pooling2d_7 (MaxPooling  (None, 6, 6, 64)         0         \n",
      " 2D)                                                             \n",
      "                                                                 \n",
      " dropout_13 (Dropout)        (None, 6, 6, 64)          0         \n",
      "                                                                 \n",
      " flatten_5 (Flatten)         (None, 2304)              0         \n",
      "                                                                 \n",
      " dense_10 (Dense)            (None, 512)               1180160   \n",
      "                                                                 \n",
      " activation_26 (Activation)  (None, 512)               0         \n",
      "                                                                 \n",
      " dropout_14 (Dropout)        (None, 512)               0         \n",
      "                                                                 \n",
      " dense_11 (Dense)            (None, 10)                5130      \n",
      "                                                                 \n",
      " activation_27 (Activation)  (None, 10)                0         \n",
      "                                                                 \n",
      "=================================================================\n",
      "Total params: 1,250,858\n",
      "Trainable params: 1,250,858\n",
      "Non-trainable params: 0\n",
      "_________________________________________________________________\n"
     ]
    }
   ],
   "source": [
    "# конфигурирование слоев нейросети\n",
    "model = Sequential()\n",
    "\n",
    "# слои нейросети отвественные за свертку и max-pooling\n",
    "model.add(Conv2D(32, (3, 3), padding='same', input_shape=X_train.shape[1:]))\n",
    "model.add(Activation('relu'))\n",
    "model.add(Conv2D(32, (3, 3)))\n",
    "model.add(Activation('relu'))\n",
    "model.add(MaxPooling2D(pool_size=(2, 2)))\n",
    "model.add(Dropout(0.25))\n",
    "\n",
    "model.add(Conv2D(64, (3, 3), padding='same'))\n",
    "model.add(Activation('relu'))\n",
    "model.add(Conv2D(64, (3, 3)))\n",
    "model.add(Activation('relu'))\n",
    "model.add(MaxPooling2D(pool_size=(2, 2)))\n",
    "model.add(Dropout(0.25))\n",
    "\n",
    "# полносвязные слои нейронной сети\n",
    "model.add(Flatten())\n",
    "model.add(Dense(512))\n",
    "model.add(Activation('relu'))\n",
    "model.add(Dropout(0.5))\n",
    "model.add(Dense(num_classes))\n",
    "model.add(Activation('softmax'))\n",
    "\n",
    "model.summary()\n",
    "# компиляция модели\n",
    "model.compile(loss='categorical_crossentropy',\n",
    "              optimizer='ADAM',\n",
    "              metrics=['accuracy'])"
   ]
  },
  {
   "cell_type": "code",
   "execution_count": 21,
   "metadata": {},
   "outputs": [
    {
     "name": "stdout",
     "output_type": "stream",
     "text": [
      "Использование data augmentation\n",
      "Epoch 1/5\n",
      "98/98 [==============================] - 92s 931ms/step - loss: 1.8358 - accuracy: 0.3201 - val_loss: 1.5154 - val_accuracy: 0.4545\n",
      "Epoch 2/5\n",
      "98/98 [==============================] - 107s 1s/step - loss: 1.5315 - accuracy: 0.4415 - val_loss: 1.3589 - val_accuracy: 0.5065\n",
      "Epoch 3/5\n",
      "98/98 [==============================] - 105s 1s/step - loss: 1.3994 - accuracy: 0.4944 - val_loss: 1.2245 - val_accuracy: 0.5571\n",
      "Epoch 4/5\n",
      "98/98 [==============================] - 110s 1s/step - loss: 1.3006 - accuracy: 0.5343 - val_loss: 1.1329 - val_accuracy: 0.5925\n",
      "Epoch 5/5\n",
      "98/98 [==============================] - 112s 1s/step - loss: 1.2281 - accuracy: 0.5600 - val_loss: 1.0359 - val_accuracy: 0.6334\n"
     ]
    }
   ],
   "source": [
    "data_augmentation = True\n",
    "if not data_augmentation:\n",
    "    print('Не используется data augmentation')\n",
    "    model.fit(X_train, y_train,\n",
    "              batch_size=batch_size,\n",
    "              epochs=epochs,\n",
    "              validation_data=(X_test, y_test),\n",
    "              shuffle=True)\n",
    "else:\n",
    "    print('Использование data augmentation')\n",
    "    # Препроцессинг и data augmentation в реальном времени:\n",
    "    datagen = ImageDataGenerator(\n",
    "        featurewise_center=False,\n",
    "        samplewise_center=False,\n",
    "        featurewise_std_normalization=False,\n",
    "        samplewise_std_normalization=False,\n",
    "        zca_whitening=False, \n",
    "        zca_epsilon=1e-06, \n",
    "        rotation_range=10, \n",
    "        width_shift_range=0.1,\n",
    "        height_shift_range=0.1,\n",
    "        shear_range=0., \n",
    "        zoom_range=0.2, \n",
    "        channel_shift_range=0.,\n",
    "        fill_mode='nearest',\n",
    "        cval=0.,\n",
    "        horizontal_flip=True,\n",
    "        vertical_flip=False,\n",
    "        rescale=None,\n",
    "        preprocessing_function=None,\n",
    "        data_format=None,\n",
    "        validation_split=0.0)\n",
    "\n",
    "\n",
    "    train_gen = datagen.flow(X_train, \n",
    "                             y_train,\n",
    "                             batch_size=batch_size)\n",
    "\n",
    "    # запуск data augmentation через fit_generator\n",
    "    model.fit(train_gen,\n",
    "                        epochs=epochs,\n",
    "                        validation_data=(X_test, y_test),\n",
    "                        workers=4)"
   ]
  },
  {
   "cell_type": "code",
   "execution_count": 31,
   "metadata": {},
   "outputs": [
    {
     "name": "stdout",
     "output_type": "stream",
     "text": [
      "Epoch 1/5\n",
      "1250/1250 [==============================] - 92s 73ms/step - loss: 1.8667 - accuracy: 0.3352 - val_loss: 1.6462 - val_accuracy: 0.4136\n",
      "Epoch 2/5\n",
      "1250/1250 [==============================] - 94s 75ms/step - loss: 1.5247 - accuracy: 0.4601 - val_loss: 1.4386 - val_accuracy: 0.4905\n",
      "Epoch 3/5\n",
      "1250/1250 [==============================] - 95s 76ms/step - loss: 1.3493 - accuracy: 0.5254 - val_loss: 1.3332 - val_accuracy: 0.5296\n",
      "Epoch 4/5\n",
      "1250/1250 [==============================] - 100s 80ms/step - loss: 1.2096 - accuracy: 0.5727 - val_loss: 1.1933 - val_accuracy: 0.5813\n",
      "Epoch 5/5\n",
      "1250/1250 [==============================] - 98s 78ms/step - loss: 1.0900 - accuracy: 0.6173 - val_loss: 1.1148 - val_accuracy: 0.6080\n"
     ]
    },
    {
     "data": {
      "text/plain": [
       "<keras.callbacks.History at 0x2d5b96db130>"
      ]
     },
     "execution_count": 31,
     "metadata": {},
     "output_type": "execute_result"
    }
   ],
   "source": [
    "# перепишу модель с разделением на две ветки\n",
    "import tensorflow as tf\n",
    "\n",
    "\n",
    "first_input = Input(shape=(X_train.shape[1:])) #(32, 32, 3)\n",
    "x11= Conv2D(32, (3, 3),activation='relu',padding = 'same')(first_input)\n",
    "x11= Conv2D(32, (3, 3),activation='relu',padding = 'same')(x11)\n",
    "x11= MaxPooling2D(pool_size=(2, 2))(x11)\n",
    "# x11= Flatten()(x11)\n",
    "\n",
    "x12= Conv2D(16, (3, 3),activation='relu',padding = 'same')(first_input)\n",
    "x12= Conv2D(16, (3, 3),activation='relu',padding = 'same')(x12)\n",
    "x12= MaxPooling2D(pool_size=(2, 2))(x12)\n",
    "# x12= Flatten()(x11)\n",
    "\n",
    "merge_one = Concatenate(  axis =-1 )([x11, x12])\n",
    "\n",
    "first_dense= Flatten()(merge_one)\n",
    "first_dense=Dense(256, activation='relu')(first_dense)\n",
    "first_dense=Dense(num_classes, activation='softmax')(first_dense)\n",
    "\n",
    "model_stek = Model(inputs=first_input, outputs=first_dense)\n",
    "ada_grad = tf.keras.optimizers.Adagrad(lr=0.1, epsilon=1e-08, decay=0.0)\n",
    "sgd = tf.keras.optimizers.SGD()\n",
    "model_stek.compile(optimizer=sgd, loss=tf.keras.losses.CategoricalCrossentropy(),\n",
    "              metrics=['accuracy'])\n",
    "model_stek.fit(X_train, y_train, epochs = 5, validation_split=0.2)"
   ]
  },
  {
   "cell_type": "markdown",
   "metadata": {},
   "source": [
    "### Вывод\n",
    "В целом, увеличение слоёв и сложности модели приводит к улучшению метрик,\n",
    "но значительно увеличивается время обучения\n",
    "Не стоит бездумно расширять модель: вторая модель с оптимизатором ADAM показала метрики лучше, чем последняя модель из двух веток\n",
    "    "
   ]
  },
  {
   "cell_type": "code",
   "execution_count": null,
   "metadata": {},
   "outputs": [],
   "source": []
  }
 ],
 "metadata": {
  "kernelspec": {
   "display_name": "Python 3",
   "language": "python",
   "name": "python3"
  },
  "language_info": {
   "codemirror_mode": {
    "name": "ipython",
    "version": 3
   },
   "file_extension": ".py",
   "mimetype": "text/x-python",
   "name": "python",
   "nbconvert_exporter": "python",
   "pygments_lexer": "ipython3",
   "version": "3.8.5"
  }
 },
 "nbformat": 4,
 "nbformat_minor": 4
}
