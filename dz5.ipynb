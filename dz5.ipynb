{
 "cells": [
  {
   "cell_type": "code",
   "execution_count": 1,
   "metadata": {},
   "outputs": [],
   "source": [
    "import tensorflow as tf\n",
    "\n",
    "import matplotlib as mpl\n",
    "import matplotlib.pyplot as plt\n",
    "import numpy as np\n",
    "import os\n",
    "import pandas as pd\n",
    "\n",
    "mpl.rcParams['figure.figsize'] = (8, 6)\n",
    "mpl.rcParams['axes.grid'] = False"
   ]
  },
  {
   "cell_type": "markdown",
   "metadata": {},
   "source": [
    "### Пользовался вот этим руководством по временным рядам \n",
    "https://www.tensorflow.org/tutorials/structured_data/time_series?hl=ru#part_1_forecast_a_univariate_time_series"
   ]
  },
  {
   "cell_type": "code",
   "execution_count": 2,
   "metadata": {},
   "outputs": [],
   "source": [
    "zip_path = tf.keras.utils.get_file(\n",
    "    origin='https://storage.googleapis.com/tensorflow/tf-keras-datasets/jena_climate_2009_2016.csv.zip',\n",
    "    fname='jena_climate_2009_2016.csv.zip',\n",
    "    extract=True)\n",
    "csv_path, _ = os.path.splitext(zip_path)"
   ]
  },
  {
   "cell_type": "code",
   "execution_count": 3,
   "metadata": {},
   "outputs": [],
   "source": [
    "df = pd.read_csv(csv_path)"
   ]
  },
  {
   "cell_type": "code",
   "execution_count": 4,
   "metadata": {},
   "outputs": [
    {
     "data": {
      "text/html": [
       "<div>\n",
       "<style scoped>\n",
       "    .dataframe tbody tr th:only-of-type {\n",
       "        vertical-align: middle;\n",
       "    }\n",
       "\n",
       "    .dataframe tbody tr th {\n",
       "        vertical-align: top;\n",
       "    }\n",
       "\n",
       "    .dataframe thead th {\n",
       "        text-align: right;\n",
       "    }\n",
       "</style>\n",
       "<table border=\"1\" class=\"dataframe\">\n",
       "  <thead>\n",
       "    <tr style=\"text-align: right;\">\n",
       "      <th></th>\n",
       "      <th>Date Time</th>\n",
       "      <th>p (mbar)</th>\n",
       "      <th>T (degC)</th>\n",
       "      <th>Tpot (K)</th>\n",
       "      <th>Tdew (degC)</th>\n",
       "      <th>rh (%)</th>\n",
       "      <th>VPmax (mbar)</th>\n",
       "      <th>VPact (mbar)</th>\n",
       "      <th>VPdef (mbar)</th>\n",
       "      <th>sh (g/kg)</th>\n",
       "      <th>H2OC (mmol/mol)</th>\n",
       "      <th>rho (g/m**3)</th>\n",
       "      <th>wv (m/s)</th>\n",
       "      <th>max. wv (m/s)</th>\n",
       "      <th>wd (deg)</th>\n",
       "    </tr>\n",
       "  </thead>\n",
       "  <tbody>\n",
       "    <tr>\n",
       "      <th>0</th>\n",
       "      <td>01.01.2009 00:10:00</td>\n",
       "      <td>996.52</td>\n",
       "      <td>-8.02</td>\n",
       "      <td>265.40</td>\n",
       "      <td>-8.90</td>\n",
       "      <td>93.3</td>\n",
       "      <td>3.33</td>\n",
       "      <td>3.11</td>\n",
       "      <td>0.22</td>\n",
       "      <td>1.94</td>\n",
       "      <td>3.12</td>\n",
       "      <td>1307.75</td>\n",
       "      <td>1.03</td>\n",
       "      <td>1.75</td>\n",
       "      <td>152.3</td>\n",
       "    </tr>\n",
       "    <tr>\n",
       "      <th>1</th>\n",
       "      <td>01.01.2009 00:20:00</td>\n",
       "      <td>996.57</td>\n",
       "      <td>-8.41</td>\n",
       "      <td>265.01</td>\n",
       "      <td>-9.28</td>\n",
       "      <td>93.4</td>\n",
       "      <td>3.23</td>\n",
       "      <td>3.02</td>\n",
       "      <td>0.21</td>\n",
       "      <td>1.89</td>\n",
       "      <td>3.03</td>\n",
       "      <td>1309.80</td>\n",
       "      <td>0.72</td>\n",
       "      <td>1.50</td>\n",
       "      <td>136.1</td>\n",
       "    </tr>\n",
       "    <tr>\n",
       "      <th>2</th>\n",
       "      <td>01.01.2009 00:30:00</td>\n",
       "      <td>996.53</td>\n",
       "      <td>-8.51</td>\n",
       "      <td>264.91</td>\n",
       "      <td>-9.31</td>\n",
       "      <td>93.9</td>\n",
       "      <td>3.21</td>\n",
       "      <td>3.01</td>\n",
       "      <td>0.20</td>\n",
       "      <td>1.88</td>\n",
       "      <td>3.02</td>\n",
       "      <td>1310.24</td>\n",
       "      <td>0.19</td>\n",
       "      <td>0.63</td>\n",
       "      <td>171.6</td>\n",
       "    </tr>\n",
       "    <tr>\n",
       "      <th>3</th>\n",
       "      <td>01.01.2009 00:40:00</td>\n",
       "      <td>996.51</td>\n",
       "      <td>-8.31</td>\n",
       "      <td>265.12</td>\n",
       "      <td>-9.07</td>\n",
       "      <td>94.2</td>\n",
       "      <td>3.26</td>\n",
       "      <td>3.07</td>\n",
       "      <td>0.19</td>\n",
       "      <td>1.92</td>\n",
       "      <td>3.08</td>\n",
       "      <td>1309.19</td>\n",
       "      <td>0.34</td>\n",
       "      <td>0.50</td>\n",
       "      <td>198.0</td>\n",
       "    </tr>\n",
       "    <tr>\n",
       "      <th>4</th>\n",
       "      <td>01.01.2009 00:50:00</td>\n",
       "      <td>996.51</td>\n",
       "      <td>-8.27</td>\n",
       "      <td>265.15</td>\n",
       "      <td>-9.04</td>\n",
       "      <td>94.1</td>\n",
       "      <td>3.27</td>\n",
       "      <td>3.08</td>\n",
       "      <td>0.19</td>\n",
       "      <td>1.92</td>\n",
       "      <td>3.09</td>\n",
       "      <td>1309.00</td>\n",
       "      <td>0.32</td>\n",
       "      <td>0.63</td>\n",
       "      <td>214.3</td>\n",
       "    </tr>\n",
       "  </tbody>\n",
       "</table>\n",
       "</div>"
      ],
      "text/plain": [
       "             Date Time  p (mbar)  T (degC)  Tpot (K)  Tdew (degC)  rh (%)  \\\n",
       "0  01.01.2009 00:10:00    996.52     -8.02    265.40        -8.90    93.3   \n",
       "1  01.01.2009 00:20:00    996.57     -8.41    265.01        -9.28    93.4   \n",
       "2  01.01.2009 00:30:00    996.53     -8.51    264.91        -9.31    93.9   \n",
       "3  01.01.2009 00:40:00    996.51     -8.31    265.12        -9.07    94.2   \n",
       "4  01.01.2009 00:50:00    996.51     -8.27    265.15        -9.04    94.1   \n",
       "\n",
       "   VPmax (mbar)  VPact (mbar)  VPdef (mbar)  sh (g/kg)  H2OC (mmol/mol)  \\\n",
       "0          3.33          3.11          0.22       1.94             3.12   \n",
       "1          3.23          3.02          0.21       1.89             3.03   \n",
       "2          3.21          3.01          0.20       1.88             3.02   \n",
       "3          3.26          3.07          0.19       1.92             3.08   \n",
       "4          3.27          3.08          0.19       1.92             3.09   \n",
       "\n",
       "   rho (g/m**3)  wv (m/s)  max. wv (m/s)  wd (deg)  \n",
       "0       1307.75      1.03           1.75     152.3  \n",
       "1       1309.80      0.72           1.50     136.1  \n",
       "2       1310.24      0.19           0.63     171.6  \n",
       "3       1309.19      0.34           0.50     198.0  \n",
       "4       1309.00      0.32           0.63     214.3  "
      ]
     },
     "execution_count": 4,
     "metadata": {},
     "output_type": "execute_result"
    }
   ],
   "source": [
    "df.head()"
   ]
  },
  {
   "cell_type": "markdown",
   "metadata": {},
   "source": [
    "По задумке прогнозирую погоду, которая будет через 6 часов в будущем, использую 5 дней наблюдений"
   ]
  },
  {
   "cell_type": "code",
   "execution_count": 5,
   "metadata": {},
   "outputs": [],
   "source": [
    "def univariate_data(dataset, start_index, end_index, history_size, target_size):\n",
    "    \"\"\"\n",
    "    history_size  - размер последнего временного интервала\n",
    "    target_size  - насколько далеко в будущее модель должна научиться прогнозировать    \n",
    "    \"\"\"\n",
    "    data = []\n",
    "    labels = []\n",
    "\n",
    "    start_index = start_index + history_size\n",
    "    if end_index is None:\n",
    "        end_index = len(dataset) - target_size\n",
    "\n",
    "    for i in range(start_index, end_index):\n",
    "        indices = range(i-history_size, i)\n",
    "        # Reshape data from (history_size,) to (history_size, 1)\n",
    "        data.append(np.reshape(dataset[indices], (history_size, 1)))\n",
    "        labels.append(dataset[i+target_size])\n",
    "        return np.array(data), np.array(labels)"
   ]
  },
  {
   "cell_type": "code",
   "execution_count": 6,
   "metadata": {},
   "outputs": [],
   "source": [
    "TRAIN_SPLIT = 300000\n",
    "tf.random.set_seed(13)"
   ]
  },
  {
   "cell_type": "code",
   "execution_count": 7,
   "metadata": {},
   "outputs": [
    {
     "data": {
      "text/plain": [
       "Date Time\n",
       "01.01.2009 00:10:00   -8.02\n",
       "01.01.2009 00:20:00   -8.41\n",
       "01.01.2009 00:30:00   -8.51\n",
       "01.01.2009 00:40:00   -8.31\n",
       "01.01.2009 00:50:00   -8.27\n",
       "Name: T (degC), dtype: float64"
      ]
     },
     "execution_count": 7,
     "metadata": {},
     "output_type": "execute_result"
    }
   ],
   "source": [
    "# отбираю один признак - температуру\n",
    "uni_data = df['T (degC)']\n",
    "uni_data.index = df['Date Time']\n",
    "uni_data.head()"
   ]
  },
  {
   "cell_type": "code",
   "execution_count": 8,
   "metadata": {},
   "outputs": [],
   "source": [
    "uni_data = uni_data.values"
   ]
  },
  {
   "cell_type": "code",
   "execution_count": 9,
   "metadata": {},
   "outputs": [],
   "source": [
    "# стандартизация \n",
    "uni_train_mean = uni_data[:TRAIN_SPLIT].mean()\n",
    "uni_train_std = uni_data[:TRAIN_SPLIT].std()\n",
    "\n",
    "uni_data = (uni_data-uni_train_mean)/uni_train_std"
   ]
  },
  {
   "cell_type": "code",
   "execution_count": 10,
   "metadata": {},
   "outputs": [],
   "source": [
    "univariate_past_history = 20\n",
    "univariate_future_target = 0\n",
    "\n",
    "x_train_uni, y_train_uni = univariate_data(uni_data, 0, TRAIN_SPLIT,\n",
    "                                           univariate_past_history,\n",
    "                                           univariate_future_target)\n",
    "x_val_uni, y_val_uni = univariate_data(uni_data, TRAIN_SPLIT, None,\n",
    "                                       univariate_past_history,\n",
    "                                       univariate_future_target)"
   ]
  },
  {
   "cell_type": "code",
   "execution_count": 11,
   "metadata": {},
   "outputs": [
    {
     "name": "stdout",
     "output_type": "stream",
     "text": [
      "Single window of past history\n",
      "[[-1.99766294]\n",
      " [-2.04281897]\n",
      " [-2.05439744]\n",
      " [-2.0312405 ]\n",
      " [-2.02660912]\n",
      " [-2.00113649]\n",
      " [-1.95134907]\n",
      " [-1.95134907]\n",
      " [-1.98492663]\n",
      " [-2.04513467]\n",
      " [-2.08334362]\n",
      " [-2.09723778]\n",
      " [-2.09376424]\n",
      " [-2.09144854]\n",
      " [-2.07176515]\n",
      " [-2.07176515]\n",
      " [-2.07639653]\n",
      " [-2.08913285]\n",
      " [-2.09260639]\n",
      " [-2.10418486]]\n",
      "\n",
      " Target temperature to predict\n",
      "-2.1041848598100876\n"
     ]
    }
   ],
   "source": [
    "print ('Single window of past history')\n",
    "print (x_train_uni[0])\n",
    "print ('\\n Target temperature to predict')\n",
    "print (y_train_uni[0])"
   ]
  },
  {
   "cell_type": "markdown",
   "metadata": {},
   "source": [
    "#### LSTM"
   ]
  },
  {
   "cell_type": "code",
   "execution_count": 49,
   "metadata": {},
   "outputs": [],
   "source": [
    "def save_model_metrics(modelname, val_mse, mse, val_loss, loss, loss_name, iterations, epochs, neurons):\n",
    "    \n",
    "    global metrics\n",
    "    \n",
    "    model_metrics = pd.DataFrame({\n",
    "        'model_name': modelname,\n",
    "        'val_MSE': [val_mse],\n",
    "        'MSE': [mse],\n",
    "        'val_loss': [val_loss],\n",
    "        'loss': [loss],\n",
    "        'loss_name': [loss_name],\n",
    "        'Iterations': [iterations],\n",
    "        'Epochs': [epochs],\n",
    "        'neurons': [neurons]\n",
    "    })\n",
    "    \n",
    "    metrics = metrics.append(model_metrics)"
   ]
  },
  {
   "cell_type": "code",
   "execution_count": 72,
   "metadata": {},
   "outputs": [],
   "source": [
    "BATCH_SIZE = 256\n",
    "BUFFER_SIZE = 10000\n",
    "\n",
    "train_univariate = tf.data.Dataset.from_tensor_slices((x_train_uni, y_train_uni))\n",
    "train_univariate = train_univariate.cache().shuffle(BUFFER_SIZE).batch(BATCH_SIZE).repeat()\n",
    "\n",
    "val_univariate = tf.data.Dataset.from_tensor_slices((x_val_uni, y_val_uni))\n",
    "val_univariate = val_univariate.batch(BATCH_SIZE).repeat()"
   ]
  },
  {
   "cell_type": "markdown",
   "metadata": {},
   "source": [
    "#### Модель 1"
   ]
  },
  {
   "cell_type": "code",
   "execution_count": 73,
   "metadata": {},
   "outputs": [],
   "source": [
    "simple_lstm_model = tf.keras.models.Sequential([\n",
    "    tf.keras.layers.LSTM(8, input_shape=x_train_uni.shape[-2:]),\n",
    "    tf.keras.layers.Dense(1)\n",
    "])\n",
    "simple_lstm_model.compile(optimizer='adam', loss='mae', metrics = 'MSE')"
   ]
  },
  {
   "cell_type": "code",
   "execution_count": 74,
   "metadata": {},
   "outputs": [
    {
     "name": "stdout",
     "output_type": "stream",
     "text": [
      "Epoch 1/10\n",
      "200/200 [==============================] - 3s 7ms/step - loss: 0.2029 - MSE: 0.1611 - val_loss: 0.2063 - val_MSE: 0.0426\n",
      "Epoch 2/10\n",
      "200/200 [==============================] - 1s 6ms/step - loss: 0.0020 - MSE: 6.4785e-06 - val_loss: 0.2060 - val_MSE: 0.0425\n",
      "Epoch 3/10\n",
      "200/200 [==============================] - 1s 5ms/step - loss: 0.0019 - MSE: 5.7489e-06 - val_loss: 0.2051 - val_MSE: 0.0421\n",
      "Epoch 4/10\n",
      "200/200 [==============================] - 1s 5ms/step - loss: 0.0016 - MSE: 4.0247e-06 - val_loss: 0.2046 - val_MSE: 0.0419\n",
      "Epoch 5/10\n",
      "200/200 [==============================] - 1s 5ms/step - loss: 0.0019 - MSE: 6.1212e-06 - val_loss: 0.2039 - val_MSE: 0.0416\n",
      "Epoch 6/10\n",
      "200/200 [==============================] - 1s 5ms/step - loss: 0.0026 - MSE: 1.1655e-05 - val_loss: 0.2029 - val_MSE: 0.0412\n",
      "Epoch 7/10\n",
      "200/200 [==============================] - 1s 5ms/step - loss: 0.0034 - MSE: 1.8246e-05 - val_loss: 0.2016 - val_MSE: 0.0406\n",
      "Epoch 8/10\n",
      "200/200 [==============================] - 1s 5ms/step - loss: 0.0022 - MSE: 7.8290e-06 - val_loss: 0.2007 - val_MSE: 0.0403\n",
      "Epoch 9/10\n",
      "200/200 [==============================] - 1s 5ms/step - loss: 0.0023 - MSE: 8.1391e-06 - val_loss: 0.1997 - val_MSE: 0.0399\n",
      "Epoch 10/10\n",
      "200/200 [==============================] - 1s 5ms/step - loss: 0.0018 - MSE: 5.4899e-06 - val_loss: 0.1989 - val_MSE: 0.0396\n"
     ]
    }
   ],
   "source": [
    "EVALUATION_INTERVAL = 200\n",
    "EPOCHS = 10\n",
    "\n",
    "history = simple_lstm_model.fit(train_univariate, epochs=EPOCHS,\n",
    "                      steps_per_epoch=EVALUATION_INTERVAL,\n",
    "                      validation_data=val_univariate, validation_steps=50)"
   ]
  },
  {
   "cell_type": "code",
   "execution_count": 75,
   "metadata": {},
   "outputs": [],
   "source": [
    "metrics = pd.DataFrame({\n",
    "        'model_name': 'model 1',\n",
    "        'val_MSE': [history.history['val_MSE'][-1]],\n",
    "        'MSE': [history.history['MSE'][-1]],\n",
    "        'val_loss': [history.history['val_loss'][-1]],\n",
    "        'loss': [history.history['loss'][-1]],    \n",
    "        'loss_name': 'mae',\n",
    "        'Iterations': [EVALUATION_INTERVAL],\n",
    "        'Epochs': [EPOCHS],\n",
    "        'neurons': [8]\n",
    "    })"
   ]
  },
  {
   "cell_type": "code",
   "execution_count": 76,
   "metadata": {},
   "outputs": [
    {
     "data": {
      "text/html": [
       "<div>\n",
       "<style scoped>\n",
       "    .dataframe tbody tr th:only-of-type {\n",
       "        vertical-align: middle;\n",
       "    }\n",
       "\n",
       "    .dataframe tbody tr th {\n",
       "        vertical-align: top;\n",
       "    }\n",
       "\n",
       "    .dataframe thead th {\n",
       "        text-align: right;\n",
       "    }\n",
       "</style>\n",
       "<table border=\"1\" class=\"dataframe\">\n",
       "  <thead>\n",
       "    <tr style=\"text-align: right;\">\n",
       "      <th></th>\n",
       "      <th>model_name</th>\n",
       "      <th>val_MSE</th>\n",
       "      <th>MSE</th>\n",
       "      <th>val_loss</th>\n",
       "      <th>loss</th>\n",
       "      <th>loss_name</th>\n",
       "      <th>Iterations</th>\n",
       "      <th>Epochs</th>\n",
       "      <th>neurons</th>\n",
       "    </tr>\n",
       "  </thead>\n",
       "  <tbody>\n",
       "    <tr>\n",
       "      <th>0</th>\n",
       "      <td>model 1</td>\n",
       "      <td>0.03958</td>\n",
       "      <td>0.000005</td>\n",
       "      <td>0.198947</td>\n",
       "      <td>0.00184</td>\n",
       "      <td>mae</td>\n",
       "      <td>200</td>\n",
       "      <td>10</td>\n",
       "      <td>8</td>\n",
       "    </tr>\n",
       "  </tbody>\n",
       "</table>\n",
       "</div>"
      ],
      "text/plain": [
       "  model_name  val_MSE       MSE  val_loss     loss loss_name  Iterations  \\\n",
       "0    model 1  0.03958  0.000005  0.198947  0.00184       mae         200   \n",
       "\n",
       "   Epochs  neurons  \n",
       "0      10        8  "
      ]
     },
     "execution_count": 76,
     "metadata": {},
     "output_type": "execute_result"
    }
   ],
   "source": [
    "metrics"
   ]
  },
  {
   "cell_type": "markdown",
   "metadata": {},
   "source": [
    "#### model 2"
   ]
  },
  {
   "cell_type": "code",
   "execution_count": 77,
   "metadata": {},
   "outputs": [
    {
     "name": "stdout",
     "output_type": "stream",
     "text": [
      "Epoch 1/10\n",
      "200/200 [==============================] - 3s 7ms/step - loss: -4.4710 - MSE: 5.1379 - val_loss: 0.6836 - val_MSE: 0.0051\n",
      "Epoch 2/10\n",
      "200/200 [==============================] - 1s 5ms/step - loss: -11.7722 - MSE: 4.4476 - val_loss: 0.6886 - val_MSE: 0.0076\n",
      "Epoch 3/10\n",
      "200/200 [==============================] - 1s 5ms/step - loss: -16.4905 - MSE: 4.4296 - val_loss: 0.6959 - val_MSE: 0.0113\n",
      "Epoch 4/10\n",
      "200/200 [==============================] - 1s 5ms/step - loss: -20.7332 - MSE: 4.4279 - val_loss: 0.7056 - val_MSE: 0.0161\n",
      "Epoch 5/10\n",
      "200/200 [==============================] - 1s 5ms/step - loss: -24.8073 - MSE: 4.4276 - val_loss: 0.7175 - val_MSE: 0.0220\n",
      "Epoch 6/10\n",
      "200/200 [==============================] - 1s 5ms/step - loss: -28.7939 - MSE: 4.4276 - val_loss: 0.7318 - val_MSE: 0.0290\n",
      "Epoch 7/10\n",
      "200/200 [==============================] - 1s 5ms/step - loss: -32.7271 - MSE: 4.4276 - val_loss: 0.7484 - val_MSE: 0.0371\n",
      "Epoch 8/10\n",
      "200/200 [==============================] - 1s 5ms/step - loss: -36.6250 - MSE: 4.4276 - val_loss: 0.7674 - val_MSE: 0.0462\n",
      "Epoch 9/10\n",
      "200/200 [==============================] - 1s 5ms/step - loss: -40.4978 - MSE: 4.4276 - val_loss: 0.7887 - val_MSE: 0.0562\n",
      "Epoch 10/10\n",
      "200/200 [==============================] - 1s 5ms/step - loss: -44.3523 - MSE: 4.4276 - val_loss: 0.8124 - val_MSE: 0.0670\n"
     ]
    }
   ],
   "source": [
    "model_2 = tf.keras.models.Sequential([\n",
    "    tf.keras.layers.LSTM(8, input_shape=x_train_uni.shape[-2:]),\n",
    "    tf.keras.layers.Dense(1, activation='sigmoid')\n",
    "])\n",
    "model_2.compile(optimizer='adam',\n",
    "                          loss='binary_crossentropy', metrics = 'MSE')\n",
    "history = model_2.fit(train_univariate, epochs=EPOCHS,\n",
    "                      steps_per_epoch=EVALUATION_INTERVAL,\n",
    "                      validation_data=val_univariate, validation_steps=50)"
   ]
  },
  {
   "cell_type": "code",
   "execution_count": 78,
   "metadata": {},
   "outputs": [],
   "source": [
    "save_model_metrics('model 2', history.history['val_MSE'][-1], history.history['MSE'][-1],\n",
    "                  history.history['val_loss'][-1], history.history['loss'][-1],\n",
    "                  'binary_crossentropy', EVALUATION_INTERVAL, EPOCHS, 8)"
   ]
  },
  {
   "cell_type": "code",
   "execution_count": 79,
   "metadata": {},
   "outputs": [
    {
     "data": {
      "text/html": [
       "<div>\n",
       "<style scoped>\n",
       "    .dataframe tbody tr th:only-of-type {\n",
       "        vertical-align: middle;\n",
       "    }\n",
       "\n",
       "    .dataframe tbody tr th {\n",
       "        vertical-align: top;\n",
       "    }\n",
       "\n",
       "    .dataframe thead th {\n",
       "        text-align: right;\n",
       "    }\n",
       "</style>\n",
       "<table border=\"1\" class=\"dataframe\">\n",
       "  <thead>\n",
       "    <tr style=\"text-align: right;\">\n",
       "      <th></th>\n",
       "      <th>model_name</th>\n",
       "      <th>val_MSE</th>\n",
       "      <th>MSE</th>\n",
       "      <th>val_loss</th>\n",
       "      <th>loss</th>\n",
       "      <th>loss_name</th>\n",
       "      <th>Iterations</th>\n",
       "      <th>Epochs</th>\n",
       "      <th>neurons</th>\n",
       "    </tr>\n",
       "  </thead>\n",
       "  <tbody>\n",
       "    <tr>\n",
       "      <th>0</th>\n",
       "      <td>model 1</td>\n",
       "      <td>0.039580</td>\n",
       "      <td>0.000005</td>\n",
       "      <td>0.198947</td>\n",
       "      <td>0.001840</td>\n",
       "      <td>mae</td>\n",
       "      <td>200</td>\n",
       "      <td>10</td>\n",
       "      <td>8</td>\n",
       "    </tr>\n",
       "    <tr>\n",
       "      <th>0</th>\n",
       "      <td>model 2</td>\n",
       "      <td>0.066991</td>\n",
       "      <td>4.427599</td>\n",
       "      <td>0.812438</td>\n",
       "      <td>-44.352325</td>\n",
       "      <td>binary_crossentropy</td>\n",
       "      <td>200</td>\n",
       "      <td>10</td>\n",
       "      <td>8</td>\n",
       "    </tr>\n",
       "  </tbody>\n",
       "</table>\n",
       "</div>"
      ],
      "text/plain": [
       "  model_name   val_MSE       MSE  val_loss       loss            loss_name  \\\n",
       "0    model 1  0.039580  0.000005  0.198947   0.001840                  mae   \n",
       "0    model 2  0.066991  4.427599  0.812438 -44.352325  binary_crossentropy   \n",
       "\n",
       "   Iterations  Epochs  neurons  \n",
       "0         200      10        8  \n",
       "0         200      10        8  "
      ]
     },
     "execution_count": 79,
     "metadata": {},
     "output_type": "execute_result"
    }
   ],
   "source": [
    "metrics"
   ]
  },
  {
   "cell_type": "markdown",
   "metadata": {},
   "source": [
    "#### model 3"
   ]
  },
  {
   "cell_type": "code",
   "execution_count": 80,
   "metadata": {},
   "outputs": [
    {
     "name": "stdout",
     "output_type": "stream",
     "text": [
      "Epoch 1/20\n",
      "100/100 [==============================] - 2s 9ms/step - loss: 2.1232 - MSE: 4.5126 - val_loss: 0.2445 - val_MSE: 0.0598\n",
      "Epoch 2/20\n",
      "100/100 [==============================] - 1s 6ms/step - loss: 2.1042 - MSE: 4.4278 - val_loss: 0.2420 - val_MSE: 0.0586\n",
      "Epoch 3/20\n",
      "100/100 [==============================] - 1s 6ms/step - loss: 2.1042 - MSE: 4.4277 - val_loss: 0.2406 - val_MSE: 0.0579\n",
      "Epoch 4/20\n",
      "100/100 [==============================] - 1s 6ms/step - loss: 2.1042 - MSE: 4.4277 - val_loss: 0.2397 - val_MSE: 0.0575\n",
      "Epoch 5/20\n",
      "100/100 [==============================] - 1s 6ms/step - loss: 2.1042 - MSE: 4.4276 - val_loss: 0.2391 - val_MSE: 0.0572\n",
      "Epoch 6/20\n",
      "100/100 [==============================] - 1s 6ms/step - loss: 2.1042 - MSE: 4.4276 - val_loss: 0.2387 - val_MSE: 0.0570\n",
      "Epoch 7/20\n",
      "100/100 [==============================] - 1s 6ms/step - loss: 2.1042 - MSE: 4.4276 - val_loss: 0.2384 - val_MSE: 0.0568\n",
      "Epoch 8/20\n",
      "100/100 [==============================] - 1s 6ms/step - loss: 2.1042 - MSE: 4.4276 - val_loss: 0.2382 - val_MSE: 0.0567\n",
      "Epoch 9/20\n",
      "100/100 [==============================] - 1s 6ms/step - loss: 2.1042 - MSE: 4.4276 - val_loss: 0.2380 - val_MSE: 0.0566\n",
      "Epoch 10/20\n",
      "100/100 [==============================] - 1s 6ms/step - loss: 2.1042 - MSE: 4.4276 - val_loss: 0.2379 - val_MSE: 0.0566\n",
      "Epoch 11/20\n",
      "100/100 [==============================] - 1s 6ms/step - loss: 2.1042 - MSE: 4.4276 - val_loss: 0.2378 - val_MSE: 0.0565\n",
      "Epoch 12/20\n",
      "100/100 [==============================] - 1s 6ms/step - loss: 2.1042 - MSE: 4.4276 - val_loss: 0.2378 - val_MSE: 0.0565\n",
      "Epoch 13/20\n",
      "100/100 [==============================] - 1s 6ms/step - loss: 2.1042 - MSE: 4.4276 - val_loss: 0.2377 - val_MSE: 0.0565\n",
      "Epoch 14/20\n",
      "100/100 [==============================] - 1s 6ms/step - loss: 2.1042 - MSE: 4.4276 - val_loss: 0.2377 - val_MSE: 0.0565\n",
      "Epoch 15/20\n",
      "100/100 [==============================] - 1s 6ms/step - loss: 2.1042 - MSE: 4.4276 - val_loss: 0.2378 - val_MSE: 0.0565\n",
      "Epoch 16/20\n",
      "100/100 [==============================] - 1s 6ms/step - loss: 2.1042 - MSE: 4.4276 - val_loss: 0.2378 - val_MSE: 0.0566\n",
      "Epoch 17/20\n",
      "100/100 [==============================] - 1s 6ms/step - loss: 2.1042 - MSE: 4.4276 - val_loss: 0.2379 - val_MSE: 0.0566\n",
      "Epoch 18/20\n",
      "100/100 [==============================] - 1s 6ms/step - loss: 2.1042 - MSE: 4.4276 - val_loss: 0.2379 - val_MSE: 0.0566\n",
      "Epoch 19/20\n",
      "100/100 [==============================] - 1s 6ms/step - loss: 2.1042 - MSE: 4.4276 - val_loss: 0.2380 - val_MSE: 0.0567\n",
      "Epoch 20/20\n",
      "100/100 [==============================] - 1s 6ms/step - loss: 2.1042 - MSE: 4.4276 - val_loss: 0.2381 - val_MSE: 0.0567\n"
     ]
    }
   ],
   "source": [
    "model_3 = tf.keras.models.Sequential([\n",
    "    tf.keras.layers.LSTM(128, input_shape=x_train_uni.shape[-2:]),\n",
    "    tf.keras.layers.Dense(1, activation='sigmoid')\n",
    "])\n",
    "model_3.compile(optimizer='adam', loss='mae', metrics = 'MSE')\n",
    "history = model_3.fit(train_univariate, epochs=20,\n",
    "                      steps_per_epoch=100,\n",
    "                      validation_data=val_univariate, validation_steps=50)"
   ]
  },
  {
   "cell_type": "code",
   "execution_count": 81,
   "metadata": {},
   "outputs": [],
   "source": [
    "save_model_metrics('model 3', history.history['val_MSE'][-1], history.history['MSE'][-1],\n",
    "                  history.history['val_loss'][-1], history.history['loss'][-1],\n",
    "                  'mae', 100, 20, 128)"
   ]
  },
  {
   "cell_type": "code",
   "execution_count": 82,
   "metadata": {},
   "outputs": [
    {
     "data": {
      "text/html": [
       "<div>\n",
       "<style scoped>\n",
       "    .dataframe tbody tr th:only-of-type {\n",
       "        vertical-align: middle;\n",
       "    }\n",
       "\n",
       "    .dataframe tbody tr th {\n",
       "        vertical-align: top;\n",
       "    }\n",
       "\n",
       "    .dataframe thead th {\n",
       "        text-align: right;\n",
       "    }\n",
       "</style>\n",
       "<table border=\"1\" class=\"dataframe\">\n",
       "  <thead>\n",
       "    <tr style=\"text-align: right;\">\n",
       "      <th></th>\n",
       "      <th>model_name</th>\n",
       "      <th>val_MSE</th>\n",
       "      <th>MSE</th>\n",
       "      <th>val_loss</th>\n",
       "      <th>loss</th>\n",
       "      <th>loss_name</th>\n",
       "      <th>Iterations</th>\n",
       "      <th>Epochs</th>\n",
       "      <th>neurons</th>\n",
       "    </tr>\n",
       "  </thead>\n",
       "  <tbody>\n",
       "    <tr>\n",
       "      <th>0</th>\n",
       "      <td>model 1</td>\n",
       "      <td>0.039580</td>\n",
       "      <td>0.000005</td>\n",
       "      <td>0.198947</td>\n",
       "      <td>0.001840</td>\n",
       "      <td>mae</td>\n",
       "      <td>200</td>\n",
       "      <td>10</td>\n",
       "      <td>8</td>\n",
       "    </tr>\n",
       "    <tr>\n",
       "      <th>0</th>\n",
       "      <td>model 2</td>\n",
       "      <td>0.066991</td>\n",
       "      <td>4.427599</td>\n",
       "      <td>0.812438</td>\n",
       "      <td>-44.352325</td>\n",
       "      <td>binary_crossentropy</td>\n",
       "      <td>200</td>\n",
       "      <td>10</td>\n",
       "      <td>8</td>\n",
       "    </tr>\n",
       "    <tr>\n",
       "      <th>0</th>\n",
       "      <td>model 3</td>\n",
       "      <td>0.056698</td>\n",
       "      <td>4.427606</td>\n",
       "      <td>0.238113</td>\n",
       "      <td>2.104187</td>\n",
       "      <td>mae</td>\n",
       "      <td>100</td>\n",
       "      <td>20</td>\n",
       "      <td>128</td>\n",
       "    </tr>\n",
       "  </tbody>\n",
       "</table>\n",
       "</div>"
      ],
      "text/plain": [
       "  model_name   val_MSE       MSE  val_loss       loss            loss_name  \\\n",
       "0    model 1  0.039580  0.000005  0.198947   0.001840                  mae   \n",
       "0    model 2  0.066991  4.427599  0.812438 -44.352325  binary_crossentropy   \n",
       "0    model 3  0.056698  4.427606  0.238113   2.104187                  mae   \n",
       "\n",
       "   Iterations  Epochs  neurons  \n",
       "0         200      10        8  \n",
       "0         200      10        8  \n",
       "0         100      20      128  "
      ]
     },
     "execution_count": 82,
     "metadata": {},
     "output_type": "execute_result"
    }
   ],
   "source": [
    "metrics"
   ]
  },
  {
   "cell_type": "code",
   "execution_count": 83,
   "metadata": {},
   "outputs": [
    {
     "name": "stdout",
     "output_type": "stream",
     "text": [
      "Epoch 1/10\n",
      "200/200 [==============================] - 3s 7ms/step - loss: 0.1022 - MSE: 0.0963 - val_loss: 0.1999 - val_MSE: 0.0400\n",
      "Epoch 2/10\n",
      "200/200 [==============================] - 1s 6ms/step - loss: 0.0191 - MSE: 5.3411e-04 - val_loss: 0.1808 - val_MSE: 0.0327\n",
      "Epoch 3/10\n",
      "200/200 [==============================] - 1s 5ms/step - loss: 0.0123 - MSE: 2.3356e-04 - val_loss: 0.1618 - val_MSE: 0.0262\n",
      "Epoch 4/10\n",
      "200/200 [==============================] - 1s 6ms/step - loss: 0.0113 - MSE: 2.0545e-04 - val_loss: 0.1504 - val_MSE: 0.0226\n",
      "Epoch 5/10\n",
      "200/200 [==============================] - 1s 5ms/step - loss: 0.0105 - MSE: 1.6448e-04 - val_loss: 0.1294 - val_MSE: 0.0167\n",
      "Epoch 6/10\n",
      "200/200 [==============================] - 1s 5ms/step - loss: 0.0106 - MSE: 1.6448e-04 - val_loss: 0.1192 - val_MSE: 0.0142\n",
      "Epoch 7/10\n",
      "200/200 [==============================] - 1s 5ms/step - loss: 0.0075 - MSE: 8.7553e-05 - val_loss: 0.1044 - val_MSE: 0.0109\n",
      "Epoch 8/10\n",
      "200/200 [==============================] - 1s 5ms/step - loss: 0.0092 - MSE: 1.2844e-04 - val_loss: 0.0894 - val_MSE: 0.0080\n",
      "Epoch 9/10\n",
      "200/200 [==============================] - 1s 5ms/step - loss: 0.0071 - MSE: 7.7431e-05 - val_loss: 0.0771 - val_MSE: 0.0059\n",
      "Epoch 10/10\n",
      "200/200 [==============================] - 1s 5ms/step - loss: 0.0092 - MSE: 1.2267e-04 - val_loss: 0.0634 - val_MSE: 0.0040\n"
     ]
    }
   ],
   "source": [
    "model_4 = tf.keras.models.Sequential([\n",
    "    tf.keras.layers.LSTM(64, input_shape=x_train_uni.shape[-2:]),\n",
    "    tf.keras.layers.Dense(1)\n",
    "])\n",
    "model_4.compile(optimizer='adam', loss='mae', metrics = 'MSE')\n",
    "\n",
    "history = model_4.fit(train_univariate, epochs=EPOCHS,\n",
    "                      steps_per_epoch=EVALUATION_INTERVAL,\n",
    "                      validation_data=val_univariate, validation_steps=50)"
   ]
  },
  {
   "cell_type": "code",
   "execution_count": 84,
   "metadata": {},
   "outputs": [],
   "source": [
    "save_model_metrics('model 4', history.history['val_MSE'][-1], history.history['MSE'][-1],\n",
    "                  history.history['val_loss'][-1], history.history['loss'][-1],\n",
    "                  'mae', 200, 10, 64)"
   ]
  },
  {
   "cell_type": "markdown",
   "metadata": {},
   "source": [
    "### Вывод"
   ]
  },
  {
   "cell_type": "code",
   "execution_count": 85,
   "metadata": {},
   "outputs": [
    {
     "data": {
      "text/html": [
       "<div>\n",
       "<style scoped>\n",
       "    .dataframe tbody tr th:only-of-type {\n",
       "        vertical-align: middle;\n",
       "    }\n",
       "\n",
       "    .dataframe tbody tr th {\n",
       "        vertical-align: top;\n",
       "    }\n",
       "\n",
       "    .dataframe thead th {\n",
       "        text-align: right;\n",
       "    }\n",
       "</style>\n",
       "<table border=\"1\" class=\"dataframe\">\n",
       "  <thead>\n",
       "    <tr style=\"text-align: right;\">\n",
       "      <th></th>\n",
       "      <th>model_name</th>\n",
       "      <th>val_MSE</th>\n",
       "      <th>MSE</th>\n",
       "      <th>val_loss</th>\n",
       "      <th>loss</th>\n",
       "      <th>loss_name</th>\n",
       "      <th>Iterations</th>\n",
       "      <th>Epochs</th>\n",
       "      <th>neurons</th>\n",
       "    </tr>\n",
       "  </thead>\n",
       "  <tbody>\n",
       "    <tr>\n",
       "      <th>0</th>\n",
       "      <td>model 1</td>\n",
       "      <td>0.039580</td>\n",
       "      <td>0.000005</td>\n",
       "      <td>0.198947</td>\n",
       "      <td>0.001840</td>\n",
       "      <td>mae</td>\n",
       "      <td>200</td>\n",
       "      <td>10</td>\n",
       "      <td>8</td>\n",
       "    </tr>\n",
       "    <tr>\n",
       "      <th>0</th>\n",
       "      <td>model 2</td>\n",
       "      <td>0.066991</td>\n",
       "      <td>4.427599</td>\n",
       "      <td>0.812438</td>\n",
       "      <td>-44.352325</td>\n",
       "      <td>binary_crossentropy</td>\n",
       "      <td>200</td>\n",
       "      <td>10</td>\n",
       "      <td>8</td>\n",
       "    </tr>\n",
       "    <tr>\n",
       "      <th>0</th>\n",
       "      <td>model 3</td>\n",
       "      <td>0.056698</td>\n",
       "      <td>4.427606</td>\n",
       "      <td>0.238113</td>\n",
       "      <td>2.104187</td>\n",
       "      <td>mae</td>\n",
       "      <td>100</td>\n",
       "      <td>20</td>\n",
       "      <td>128</td>\n",
       "    </tr>\n",
       "    <tr>\n",
       "      <th>0</th>\n",
       "      <td>model 4</td>\n",
       "      <td>0.004022</td>\n",
       "      <td>0.000123</td>\n",
       "      <td>0.063417</td>\n",
       "      <td>0.009157</td>\n",
       "      <td>mae</td>\n",
       "      <td>200</td>\n",
       "      <td>10</td>\n",
       "      <td>64</td>\n",
       "    </tr>\n",
       "  </tbody>\n",
       "</table>\n",
       "</div>"
      ],
      "text/plain": [
       "  model_name   val_MSE       MSE  val_loss       loss            loss_name  \\\n",
       "0    model 1  0.039580  0.000005  0.198947   0.001840                  mae   \n",
       "0    model 2  0.066991  4.427599  0.812438 -44.352325  binary_crossentropy   \n",
       "0    model 3  0.056698  4.427606  0.238113   2.104187                  mae   \n",
       "0    model 4  0.004022  0.000123  0.063417   0.009157                  mae   \n",
       "\n",
       "   Iterations  Epochs  neurons  \n",
       "0         200      10        8  \n",
       "0         200      10        8  \n",
       "0         100      20      128  \n",
       "0         200      10       64  "
      ]
     },
     "execution_count": 85,
     "metadata": {},
     "output_type": "execute_result"
    }
   ],
   "source": [
    "metrics"
   ]
  },
  {
   "cell_type": "markdown",
   "metadata": {},
   "source": [
    "на данных примерах я выяснил:\n",
    "-  binary_crossentropy для задач LSTM - не лучший выбор \\\n",
    "-  бездумное увеличение нейронов в слое не даст значительных увеличений метрик\n",
    "-  лучшие всех себя показали модели 4 и 1"
   ]
  },
  {
   "cell_type": "code",
   "execution_count": null,
   "metadata": {},
   "outputs": [],
   "source": []
  }
 ],
 "metadata": {
  "kernelspec": {
   "display_name": "Python 3",
   "language": "python",
   "name": "python3"
  },
  "language_info": {
   "codemirror_mode": {
    "name": "ipython",
    "version": 3
   },
   "file_extension": ".py",
   "mimetype": "text/x-python",
   "name": "python",
   "nbconvert_exporter": "python",
   "pygments_lexer": "ipython3",
   "version": "3.8.5"
  }
 },
 "nbformat": 4,
 "nbformat_minor": 4
}
